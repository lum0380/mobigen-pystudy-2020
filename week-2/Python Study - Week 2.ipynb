{
 "cells": [
  {
   "cell_type": "markdown",
   "metadata": {},
   "source": [
    "# Python Study - 2주차 자료입니다. (Jaewook Oh)"
   ]
  },
  {
   "cell_type": "markdown",
   "metadata": {},
   "source": [
    "## Contents\n",
    "- Decorator / Closure\n",
    "- Data Types\n",
    "    - datetime\n",
    "    - collections\n",
    "    - heapq\n",
    "    - copy\n",
    "    - pprint"
   ]
  },
  {
   "cell_type": "markdown",
   "metadata": {},
   "source": [
    "## 1. Closure"
   ]
  },
  {
   "cell_type": "markdown",
   "metadata": {},
   "source": [
    "> 자신을 둘러싼 스코프(네임스페이스)의 상태값을 기억하는 함수\n",
    "\n",
    "함수 X가 Closure이기 위한 조건\n",
    "\n",
    "- 함수 X는 어떤 함수 Y에 중첩되어 있어야 한다.\n",
    "- 함수 X에서는 어떤 함수 Y에서 사용된 변수의 처리가 이루어져야 한다.\n",
    "- 어떤 함수 Y는 함수 X를 리턴하여야 한다."
   ]
  },
  {
   "cell_type": "code",
   "execution_count": 12,
   "metadata": {},
   "outputs": [
    {
     "name": "stdout",
     "output_type": "stream",
     "text": [
      "HELLO\n"
     ]
    }
   ],
   "source": [
    "# Closure Example - 1\n",
    "def outer_func(): #1\n",
    "    message = \"HI\" #3\n",
    "    \n",
    "    def inner_func(): #4\n",
    "        #print(message)\n",
    "        nonlocal message\n",
    "        message = \"HELLO\"\n",
    "        print(message) #6\n",
    "    \n",
    "    return inner_func() #5\n",
    "\n",
    "outer_func() #2"
   ]
  },
  {
   "cell_type": "markdown",
   "metadata": {},
   "source": [
    "1. #1에서 정의한 함수 outer_func를 #2에서 호출\n",
    "2. outer_func가 실행된 이후, message라는 변수에 \"HI\"라는 문자열을 할당 (#3)\n",
    "3. #4에서 innner_func을 정의하고 #5에서 inner_func을 호출과 동시에 리턴\n",
    "4. #6에서 message 변수를 참조하여 출력. 여기에서 message는 inner_func 안에서 정의되지 않았으나, inner_func 안에서 사용되고 있기 때문에 __Free Variable__ 이라고 부른다.\n",
    "\n",
    "> Free Variable\n",
    "> 코드 블럭 안에서 사용은 되었으나, 해당 블럭 안에서 정의되지 않은 변수를 의미한다."
   ]
  },
  {
   "cell_type": "code",
   "execution_count": 1,
   "metadata": {},
   "outputs": [
    {
     "name": "stdout",
     "output_type": "stream",
     "text": [
      "<function outer_func.<locals>.inner_func at 0x105b82200>\n",
      "HI\n"
     ]
    }
   ],
   "source": [
    "# Closure Example - 2\n",
    "def outer_func(): #1\n",
    "    message = \"HI\" #3\n",
    "    \n",
    "    def inner_func(): #4\n",
    "        print(message) #6\n",
    "    \n",
    "    return inner_func #5 괄호쌍을 지웠음\n",
    "\n",
    "print(outer_func()) #2\n",
    "outer_func()()"
   ]
  },
  {
   "cell_type": "markdown",
   "metadata": {},
   "source": [
    "아까와는 달리 message가 출력되지 않음을 알 수 있음.\n",
    "\n",
    "이는 #5에서 outer_func이 리턴할 때, inner_func 함수를 실행하지 않고,\n",
    "곧장 함수 오브젝트를 리턴하였기 때문임.\n",
    "\n",
    "실제로 출력하기 위해서는 함수 오브젝트에 ()를 붙여서 call 해야 함"
   ]
  },
  {
   "cell_type": "code",
   "execution_count": 21,
   "metadata": {},
   "outputs": [
    {
     "name": "stdout",
     "output_type": "stream",
     "text": [
      "7\n",
      "7\n"
     ]
    }
   ],
   "source": [
    "# Closure Example - 3\n",
    "def outer_func(): #1\n",
    "    message = \"HI\" #3\n",
    "    \n",
    "    def inner_func(): #4\n",
    "        print(message) #6\n",
    "    \n",
    "    return inner_func #5\n",
    "\n",
    "\n",
    "def test_func():\n",
    "    x = 7\n",
    "    return x\n",
    "\n",
    "y = test_func\n",
    "\n",
    "t = []\n",
    "\n",
    "t.append(y)\n",
    "print(t[0]())\n",
    "\n",
    "print(y())\n",
    "\n",
    "\n",
    "\n",
    "#outer_func()\n",
    "# my_func = outer_func() #2 리턴값인 inner_func을 변수에 할당\n",
    "##print(id)\n",
    "#print(my_func)"
   ]
  },
  {
   "cell_type": "markdown",
   "metadata": {},
   "source": [
    "# Scoping Rule\n",
    "# Function Pointer"
   ]
  },
  {
   "cell_type": "markdown",
   "metadata": {},
   "source": [
    "아까와 마찬가지로 message는 출력되지 않으나, my_func 변수에는 inner_func 함수가 할당되어 있음을 알 수 있다. (함수 오브젝트)"
   ]
  },
  {
   "cell_type": "code",
   "execution_count": 4,
   "metadata": {},
   "outputs": [
    {
     "name": "stdout",
     "output_type": "stream",
     "text": [
      "HI\n",
      "HI\n",
      "HI\n"
     ]
    }
   ],
   "source": [
    "my_func()\n",
    "my_func()\n",
    "my_func()"
   ]
  },
  {
   "cell_type": "markdown",
   "metadata": {},
   "source": [
    "좀 전에 선언한 my_func 변수를 실행하면, 정상적으로 inner_func이 호출되는 것을 알 수 있다. \n",
    "그러나 outer_func이 #2에서 종료되었음에도 불구하고, outer_func 함수의 로컬 변수인 message 변수를 참조하고 있다는 점이 이상함을 알 수 있다.\n",
    "\n",
    "다음의 과정을 통해 outer_func의 로컬 변수인 message가 어떻게 inner_func에서 호출될 수 있었는지를 확인한다."
   ]
  },
  {
   "cell_type": "code",
   "execution_count": 5,
   "metadata": {
    "scrolled": true
   },
   "outputs": [
    {
     "name": "stdout",
     "output_type": "stream",
     "text": [
      "# dir(my_func)\n",
      "['__annotations__', '__call__', '__class__', '__closure__', '__code__', '__defaults__', '__delattr__', '__dict__', '__dir__', '__doc__', '__eq__', '__format__', '__ge__', '__get__', '__getattribute__', '__globals__', '__gt__', '__hash__', '__init__', '__init_subclass__', '__kwdefaults__', '__le__', '__lt__', '__module__', '__name__', '__ne__', '__new__', '__qualname__', '__reduce__', '__reduce_ex__', '__repr__', '__setattr__', '__sizeof__', '__str__', '__subclasshook__']\n",
      "\n",
      "# type(my_func.__closure__))\n",
      "<class 'tuple'>\n",
      "\n",
      "# my_func.__closure__\n",
      "(<cell at 0x105b840d0: str object at 0x105b53fb0>,)\n",
      "\n",
      "# my_func.__closure__[0]\n",
      "<cell at 0x105b840d0: str object at 0x105b53fb0>\n",
      "\n",
      "# dir(my_func.__closure__[0])\n",
      "['__class__', '__delattr__', '__dir__', '__doc__', '__eq__', '__format__', '__ge__', '__getattribute__', '__gt__', '__hash__', '__init__', '__init_subclass__', '__le__', '__lt__', '__ne__', '__new__', '__reduce__', '__reduce_ex__', '__repr__', '__setattr__', '__sizeof__', '__str__', '__subclasshook__', 'cell_contents']\n",
      "\n",
      "# my_func.__closure__[0].cell_contents\n",
      "HI\n"
     ]
    }
   ],
   "source": [
    "# message 변수가 저장된 위치를 찾는 과정\n",
    "\n",
    "print(\"# dir(my_func)\")\n",
    "print(dir(my_func))\n",
    "print()\n",
    "print(\"# type(my_func.__closure__))\")\n",
    "print(type(my_func.__closure__))\n",
    "print()\n",
    "print(\"# my_func.__closure__\")\n",
    "print(my_func.__closure__)\n",
    "print()\n",
    "print(\"# my_func.__closure__[0]\")\n",
    "print(my_func.__closure__[0])\n",
    "print()\n",
    "print(\"# dir(my_func.__closure__[0])\")\n",
    "print(dir(my_func.__closure__[0]))\n",
    "print()\n",
    "print(\"# my_func.__closure__[0].cell_contents\")\n",
    "print(my_func.__closure__[0].cell_contents)"
   ]
  },
  {
   "cell_type": "markdown",
   "metadata": {},
   "source": [
    "# 2. Decorator"
   ]
  },
  {
   "cell_type": "markdown",
   "metadata": {},
   "source": [
    "- 매우 반복적으로 되풀이되는 코드는, 그보다 더 현명한 해결책이 존재한다. (메타 프로그래밍)\n",
    "- 함수에 추가적인 처리(Logging, Timing 등)를 수행하는 Wrapper Layer를 넣고 싶을 때 데코레이터 함수를 정의한다.\n",
    "- 즉, 이미 만들어진 기존의 코드를 수정하지 않고도, Wrapper 함수를 이용해 여러가지 기능을 추가할 수 있기 때문이다.\n",
    "- 데코레이터는 필요한 결과를 기억하도록 \"Memoization\"을 하는데에 Decorator를 사용할 수도 있다."
   ]
  },
  {
   "cell_type": "code",
   "execution_count": 28,
   "metadata": {},
   "outputs": [],
   "source": [
    "import time # -> 별도의 네임스페이스를 사용하겠다는 의미. 실행은 되지만, 접근하기 위해서는 파일명을 앞에 붙여 주어야 함.\n",
    "#from  time import * -> 위험. #-> namespace overload ()\n",
    "from functools import wraps  # -> 선택적으로 가져옴.\n",
    "\n",
    "def timethis(func):\n",
    "    # 실행 시간을 보고하는 데코레이터\n",
    "    @wraps(func)\n",
    "    def wrapper(*args, **kwargs):\n",
    "        stime = time.time()\n",
    "        result = func(*args, **kwargs)\n",
    "        etime = time.time()\n",
    "        print(func.__name__, etime - stime)\n",
    "        return result\n",
    "    return wrapper"
   ]
  },
  {
   "cell_type": "code",
   "execution_count": 29,
   "metadata": {},
   "outputs": [
    {
     "name": "stdout",
     "output_type": "stream",
     "text": [
      "countdown 9.5367431640625e-07\n",
      "0.00037384033203125\n"
     ]
    }
   ],
   "source": [
    "@timethis\n",
    "def countdown(n:int):\n",
    "    while n > 0:\n",
    "        n -= 1\n",
    "\n",
    "        \n",
    "stime = time.time()\n",
    "countdown(10)\n",
    "etime = time.time()\n",
    "print(etime-stime)\n"
   ]
  },
  {
   "cell_type": "code",
   "execution_count": 24,
   "metadata": {},
   "outputs": [
    {
     "name": "stdout",
     "output_type": "stream",
     "text": [
      "countdown 0.0006330013275146484\n"
     ]
    }
   ],
   "source": [
    "countdown(10_000)"
   ]
  },
  {
   "cell_type": "code",
   "execution_count": 26,
   "metadata": {},
   "outputs": [
    {
     "name": "stdout",
     "output_type": "stream",
     "text": [
      "countdown 5.6774280071258545\n"
     ]
    }
   ],
   "source": [
    "countdown(100_000_000)"
   ]
  },
  {
   "cell_type": "code",
   "execution_count": 27,
   "metadata": {},
   "outputs": [
    {
     "name": "stdout",
     "output_type": "stream",
     "text": [
      "countdown 0.6107609272003174\n"
     ]
    }
   ],
   "source": [
    "countdown(10_000_000)"
   ]
  },
  {
   "cell_type": "code",
   "execution_count": 51,
   "metadata": {},
   "outputs": [
    {
     "name": "stdout",
     "output_type": "stream",
     "text": [
      "countdown 1.0056540966033936\n"
     ]
    }
   ],
   "source": [
    "countdown(18_000_000)"
   ]
  },
  {
   "cell_type": "markdown",
   "metadata": {},
   "source": [
    "Decorator는 입력으로 함수를 받고, 새로운 함수를 반환한다."
   ]
  },
  {
   "cell_type": "markdown",
   "metadata": {},
   "source": [
    "```\n",
    "@timethis\n",
    "def countdown(n):\n",
    "    pass\n",
    "은 \n",
    "\n",
    "def countdown(n):\n",
    "    countdown = timethis(countdown)\n",
    "\n",
    "와 같은 별도의 단계를 수행한 것과 동일하다.\n",
    "```"
   ]
  },
  {
   "cell_type": "markdown",
   "metadata": {},
   "source": [
    "@staticmethod 나 @classmethod 또는 @property와 같은 내장된 데코레이터도 동일한 동작을 한다."
   ]
  },
  {
   "cell_type": "code",
   "execution_count": 2,
   "metadata": {},
   "outputs": [],
   "source": [
    "class A:\n",
    "    @classmethod\n",
    "    def method(cls):\n",
    "        pass"
   ]
  },
  {
   "cell_type": "code",
   "execution_count": 12,
   "metadata": {},
   "outputs": [],
   "source": [
    "class B:\n",
    "    def method(cls):\n",
    "        pass\n",
    "    method = classmethod(method)"
   ]
  },
  {
   "cell_type": "markdown",
   "metadata": {},
   "source": [
    "위 두 코드는 동일한 동작을 한다. "
   ]
  },
  {
   "cell_type": "markdown",
   "metadata": {},
   "source": [
    "데코레이터는 일반적으로 Call Signature나 감싸고 있는 함수의 Return을 수정하지 않는다는 점이 중요하다.\n",
    "그리고 어떠한 입력 인자라도 받을 수 있도록 *args와 **kwargs를 사용한다. \n",
    "다만 데코레이터를 사용하는 경우, @wraps를 사용하지 않으면, 데코레이터 함수가 중요한 정보를 모두 상실하게 된다. 예를 들어,"
   ]
  },
  {
   "cell_type": "code",
   "execution_count": 30,
   "metadata": {
    "scrolled": true
   },
   "outputs": [
    {
     "name": "stdout",
     "output_type": "stream",
     "text": [
      "countdown 0.0006749629974365234\n",
      "wrapper\n",
      "{}\n"
     ]
    }
   ],
   "source": [
    "countdown(10000)\n",
    "print(countdown.__name__)\n",
    "print(countdown.__annotations__)"
   ]
  },
  {
   "cell_type": "markdown",
   "metadata": {},
   "source": [
    "### wraps를 사용하지 않은 경우에는 "
   ]
  },
  {
   "cell_type": "code",
   "execution_count": 5,
   "metadata": {},
   "outputs": [],
   "source": [
    "import time\n",
    "from functools import wraps\n",
    "\n",
    "def timethis(func):\n",
    "    # 실행 시간을 보고하는 데코레이터\n",
    "    def wrapper(*args, **kwargs):\n",
    "        stime = time.time()\n",
    "        result = func(*args, **kwargs)\n",
    "        etime = time.time()\n",
    "        print(func.__name__, etime - stime)\n",
    "        return result\n",
    "    return wrapper\n",
    "\n",
    "@timethis\n",
    "def countdown(n:int):\n",
    "    while n > 0:\n",
    "        n -= 1"
   ]
  },
  {
   "cell_type": "code",
   "execution_count": 6,
   "metadata": {},
   "outputs": [
    {
     "name": "stdout",
     "output_type": "stream",
     "text": [
      "wrapper\n",
      "{}\n"
     ]
    }
   ],
   "source": [
    "print(countdown.__name__)\n",
    "print(countdown.__annotations__)\n",
    "\n",
    "# 이처럼 기존 함수가 가지고 있던 정보를 상실하게 된다.\n",
    "# 다만 모든 데코레이터가 @wraps를 사용하지는 않으며, @staticmethod나 @classmethod처럼 내장된 데코레이터는 이런 규칙을 따르지 않는다.\n",
    "# (대신 함수의 원본을 __func__ 속성에 담고 있다.)"
   ]
  },
  {
   "cell_type": "markdown",
   "metadata": {},
   "source": [
    "### 이미 적용한 데코레이터를 취소하고, 원본 함수에 접근하고 싶은 경우에는 __wrapped__ 속성을 이용한다. #TODO"
   ]
  },
  {
   "cell_type": "code",
   "execution_count": 31,
   "metadata": {},
   "outputs": [
    {
     "name": "stderr",
     "output_type": "stream",
     "text": [
      "INFO:root:[Result - 2020-06-01 20:01] args - ('John', 25), kwargs - {}\n"
     ]
    },
    {
     "name": "stdout",
     "output_type": "stream",
     "text": [
      "Display_info(John, 25) Function\n"
     ]
    }
   ],
   "source": [
    "# Decorator Example - Logger\n",
    "\n",
    "import datetime\n",
    "import time\n",
    "from functools import wraps\n",
    "\n",
    "def my_logger(func):\n",
    "    import logging\n",
    "    logging.basicConfig(level=logging.INFO)\n",
    "    \n",
    "    @wraps(func)\n",
    "    def wrapper(*args, **kwargs):\n",
    "        timestamp = datetime.datetime.now().strftime(\"%Y-%m-%d %H:%M\")\n",
    "        logging.info(\"[Result - {}] args - {}, kwargs - {}\".format(timestamp, args, kwargs))\n",
    "        return func(*args, **kwargs)\n",
    "\n",
    "    return wrapper\n",
    "\n",
    "@my_logger\n",
    "def display_info(name, age):\n",
    "    time.sleep(1)\n",
    "    print(\"Display_info({}, {}) Function\".format(name, age))\n",
    "\n",
    "\n",
    "display_info(\"John\", 25)"
   ]
  },
  {
   "cell_type": "markdown",
   "metadata": {},
   "source": [
    "### 복수 개의 데코레이터를 사용하는 경우, 맨 아래의 데코레이터부터 실행 된다."
   ]
  },
  {
   "cell_type": "code",
   "execution_count": 36,
   "metadata": {},
   "outputs": [
    {
     "name": "stderr",
     "output_type": "stream",
     "text": [
      "CRITICAL:example:[SpamMessage]\n",
      "ERROR:example3:[ErrorMessage]\n"
     ]
    },
    {
     "name": "stdout",
     "output_type": "stream",
     "text": [
      "3\n",
      "\n",
      "SPAM!\n",
      "\n",
      "ERROR!\n",
      "\n"
     ]
    },
    {
     "ename": "TypeError",
     "evalue": "decorate() missing 1 required positional argument: 'func'",
     "output_type": "error",
     "traceback": [
      "\u001b[0;31m---------------------------------------------------------------------------\u001b[0m",
      "\u001b[0;31mTypeError\u001b[0m                                 Traceback (most recent call last)",
      "\u001b[0;32m<ipython-input-36-11698f1e7586>\u001b[0m in \u001b[0;36m<module>\u001b[0;34m\u001b[0m\n\u001b[1;32m     43\u001b[0m \u001b[0merror\u001b[0m\u001b[0;34m(\u001b[0m\u001b[0;34m)\u001b[0m\u001b[0;34m\u001b[0m\u001b[0;34m\u001b[0m\u001b[0m\n\u001b[1;32m     44\u001b[0m \u001b[0mprint\u001b[0m\u001b[0;34m(\u001b[0m\u001b[0;34m)\u001b[0m\u001b[0;34m\u001b[0m\u001b[0;34m\u001b[0m\u001b[0m\n\u001b[0;32m---> 45\u001b[0;31m \u001b[0mnoneParam\u001b[0m\u001b[0;34m(\u001b[0m\u001b[0;34m)\u001b[0m\u001b[0;34m\u001b[0m\u001b[0;34m\u001b[0m\u001b[0m\n\u001b[0m",
      "\u001b[0;31mTypeError\u001b[0m: decorate() missing 1 required positional argument: 'func'"
     ]
    }
   ],
   "source": [
    "# 매개변수를 받는 데코레이터 정의\n",
    "from functools import wraps\n",
    "import logging\n",
    "\n",
    "def logged(level, name=None, message=None):\n",
    "    def decorate(func):\n",
    "        logname = name if name else func.__module__\n",
    "        log = logging.getLogger(logname)\n",
    "        logmsg = message if message else func.__name__\n",
    "        \n",
    "        @wraps(func)\n",
    "        def wrapper(*args, **kwargs):\n",
    "            #print(level, logmsg)\n",
    "            log.log(level, logmsg)\n",
    "            return func(*args, **kwargs)\n",
    "        return wrapper\n",
    "    return decorate\n",
    "\n",
    "# Example - 1\n",
    "@logged(logging.DEBUG)\n",
    "def add(x, y):\n",
    "    return x + y\n",
    "\n",
    "# Example - 2\n",
    "@logged(logging.CRITICAL, 'example', '[SpamMessage]')\n",
    "def spam():\n",
    "    print(\"SPAM!\")\n",
    "    \n",
    "# Example - 3\n",
    "@logged(logging.ERROR, 'example3', '[ErrorMessage]')\n",
    "def error():\n",
    "    print(\"ERROR!\")\n",
    "    \n",
    "# Example - 4 <= Error\n",
    "@logged\n",
    "def noneParam():\n",
    "    print(\"NONEPARAM!\")\n",
    "    \n",
    "print(add(1,2))\n",
    "print()\n",
    "spam()\n",
    "print()\n",
    "error()\n",
    "print()\n",
    "noneParam()"
   ]
  },
  {
   "cell_type": "markdown",
   "metadata": {},
   "source": [
    "예제 4번의 코드는 동작하지 않는다. logged 데코레이터는 적어도 하나의 인자(func)를 요구하기 때문이다. "
   ]
  },
  {
   "cell_type": "markdown",
   "metadata": {},
   "source": [
    "## 매개변수를 받는 데코레이터를 런타임 때 속성을 수정할 수 있도록 정의하기"
   ]
  },
  {
   "cell_type": "markdown",
   "metadata": {},
   "source": [
    "함수를 감싸는 데코레이터를 작성하는데, 사용자가 runtime 시에 속성을 조절할 수 있도록 접근자 함수를 만들어 해결할 수 있다."
   ]
  },
  {
   "cell_type": "code",
   "execution_count": 52,
   "metadata": {},
   "outputs": [
    {
     "name": "stdout",
     "output_type": "stream",
     "text": [
      "10 add\n",
      "5\n",
      "\n",
      "10 Add called\n",
      "5\n",
      "\n",
      "30 Add called\n",
      "5\n"
     ]
    }
   ],
   "source": [
    "from functools import wraps, partial\n",
    "import logging\n",
    "\n",
    "def attach_wrapper(obj, func=None):\n",
    "    if func is None:\n",
    "        return partial(attach_wrapper, obj)\n",
    "    setattr(obj, func.__name__, func)\n",
    "    return func\n",
    "\n",
    "def logged(level, name=None, message=None):\n",
    "    def decorate(func):\n",
    "        logname = name if name else func.__module__\n",
    "        log = logging.getLogger(logname)\n",
    "        logmsg = message if message else func.__name__\n",
    "        \n",
    "        @wraps(func)\n",
    "        def wrapper(*args, **kwargs):\n",
    "            print(level, logmsg)\n",
    "            #log.log(level, logmsg)\n",
    "            return func(*args, **kwargs)\n",
    "        \n",
    "        # Setter Func\n",
    "        @attach_wrapper(wrapper)\n",
    "        def set_level(newlevel):\n",
    "            nonlocal level\n",
    "            level = newlevel\n",
    "        \n",
    "        @attach_wrapper(wrapper)\n",
    "        def set_message(newmsg):\n",
    "            nonlocal logmsg\n",
    "            logmsg = newmsg\n",
    "        \n",
    "        return wrapper\n",
    "    return decorate\n",
    "\n",
    "# Example - 1\n",
    "@logged(logging.DEBUG)\n",
    "def add(x, y):\n",
    "    return x + y\n",
    "\n",
    "# Example - 2\n",
    "@logged(logging.CRITICAL, 'example', '[SpamMessage]')\n",
    "def spam():\n",
    "    print(\"SPAM!\")\n",
    "    \n",
    "# Example - 3\n",
    "@logged(logging.ERROR, 'example3', '[ErrorMessage]')\n",
    "def error():\n",
    "    print(\"ERROR!\")\n",
    "    \n",
    "# Example - 4 <= Error\n",
    "@logged\n",
    "def noneParam():\n",
    "    print(\"NONEPARAM!\")\n",
    "\n",
    "print(add(2,3))\n",
    "print()\n",
    "add.set_message(\"Add called\")\n",
    "print(add(2,3))\n",
    "print()\n",
    "add.set_level(logging.WARNING)\n",
    "print(add(2,3))\n"
   ]
  },
  {
   "cell_type": "code",
   "execution_count": 23,
   "metadata": {},
   "outputs": [
    {
     "name": "stdout",
     "output_type": "stream",
     "text": [
      "10 add\n"
     ]
    },
    {
     "data": {
      "text/plain": [
       "5"
      ]
     },
     "execution_count": 23,
     "metadata": {},
     "output_type": "execute_result"
    }
   ],
   "source": [
    "add(2,3)"
   ]
  },
  {
   "cell_type": "code",
   "execution_count": 54,
   "metadata": {},
   "outputs": [
    {
     "name": "stdout",
     "output_type": "stream",
     "text": [
      "30 Add called\n"
     ]
    },
    {
     "data": {
      "text/plain": [
       "5"
      ]
     },
     "execution_count": 54,
     "metadata": {},
     "output_type": "execute_result"
    }
   ],
   "source": [
    "add.set_message(\"Add called\")\n",
    "add(2,3)"
   ]
  },
  {
   "cell_type": "code",
   "execution_count": 53,
   "metadata": {},
   "outputs": [
    {
     "name": "stdout",
     "output_type": "stream",
     "text": [
      "30 Add called\n"
     ]
    },
    {
     "data": {
      "text/plain": [
       "5"
      ]
     },
     "execution_count": 53,
     "metadata": {},
     "output_type": "execute_result"
    }
   ],
   "source": [
    "add.set_level(logging.WARNING)\n",
    "add(2,3)"
   ]
  },
  {
   "cell_type": "markdown",
   "metadata": {},
   "source": [
    "##### nonlocal 지시어가 사용된 이유\n",
    "\n",
    "```\n",
    "a = 10\n",
    "def outer():\n",
    "    n = 10\n",
    "    def inner():\n",
    "        print(a)\n",
    "        a += 1\n",
    "        print(a)\n",
    "        print(n)\n",
    "        n += 1\n",
    "        print(n)\n",
    "        x = 10\n",
    "        print(x)\n",
    "        x += 1\n",
    "        print(x)\n",
    "     \n",
    "    inner()\n",
    "```\n",
    "위와 같은 함수가 존재한다고 가정하자.\n",
    "\n",
    "여기에서 a는 모든 함수에서 접근할 수 있는 global 변수이다.\n",
    "\n",
    "outer 함수에 위치한 변수 n은 outer() 함수 입장에서는 local 범위이지만, inner() 함수 입장에서는 nonlocal 범위에 들어간다.\n",
    "\n",
    "따라서 변수 n은 inner() 함수에서 읽기만 가능하다.\n",
    "\n",
    "그러나 nonlocal 지시어를 사용하면 local에 위치하지 않은 변수를 불러와서 쓰기 작업을 수행할 수 있게 해준다.\n",
    "\n",
    "global 지시어도 마찬가지의 역할을 한다.\n"
   ]
  },
  {
   "cell_type": "code",
   "execution_count": 10,
   "metadata": {},
   "outputs": [
    {
     "name": "stdout",
     "output_type": "stream",
     "text": [
      "4349936768\n"
     ]
    },
    {
     "ename": "UnboundLocalError",
     "evalue": "local variable 'x' referenced before assignment",
     "output_type": "error",
     "traceback": [
      "\u001b[0;31m---------------------------------------------------------------------------\u001b[0m",
      "\u001b[0;31mUnboundLocalError\u001b[0m                         Traceback (most recent call last)",
      "\u001b[0;32m<ipython-input-10-642cae474c98>\u001b[0m in \u001b[0;36m<module>\u001b[0;34m\u001b[0m\n\u001b[1;32m     11\u001b[0m \u001b[0;34m\u001b[0m\u001b[0m\n\u001b[1;32m     12\u001b[0m \u001b[0mx\u001b[0m \u001b[0;34m=\u001b[0m \u001b[0;36m1\u001b[0m\u001b[0;34m\u001b[0m\u001b[0;34m\u001b[0m\u001b[0m\n\u001b[0;32m---> 13\u001b[0;31m \u001b[0ma\u001b[0m\u001b[0;34m(\u001b[0m\u001b[0;34m)\u001b[0m\u001b[0;34m\u001b[0m\u001b[0;34m\u001b[0m\u001b[0m\n\u001b[0m\u001b[1;32m     14\u001b[0m \u001b[0mprint\u001b[0m\u001b[0;34m(\u001b[0m\u001b[0mid\u001b[0m\u001b[0;34m(\u001b[0m\u001b[0mx\u001b[0m\u001b[0;34m)\u001b[0m\u001b[0;34m)\u001b[0m\u001b[0;34m\u001b[0m\u001b[0;34m\u001b[0m\u001b[0m\n",
      "\u001b[0;32m<ipython-input-10-642cae474c98>\u001b[0m in \u001b[0;36ma\u001b[0;34m()\u001b[0m\n\u001b[1;32m      5\u001b[0m     \u001b[0;31m#global x\u001b[0m\u001b[0;34m\u001b[0m\u001b[0;34m\u001b[0m\u001b[0;34m\u001b[0m\u001b[0m\n\u001b[1;32m      6\u001b[0m     \u001b[0;31m#print(id(x))\u001b[0m\u001b[0;34m\u001b[0m\u001b[0;34m\u001b[0m\u001b[0;34m\u001b[0m\u001b[0m\n\u001b[0;32m----> 7\u001b[0;31m     \u001b[0my\u001b[0m \u001b[0;34m=\u001b[0m \u001b[0mx\u001b[0m\u001b[0;34m\u001b[0m\u001b[0;34m\u001b[0m\u001b[0m\n\u001b[0m\u001b[1;32m      8\u001b[0m     \u001b[0mprint\u001b[0m\u001b[0;34m(\u001b[0m\u001b[0mid\u001b[0m\u001b[0;34m(\u001b[0m\u001b[0my\u001b[0m\u001b[0;34m)\u001b[0m\u001b[0;34m)\u001b[0m\u001b[0;34m\u001b[0m\u001b[0;34m\u001b[0m\u001b[0m\n\u001b[1;32m      9\u001b[0m     \u001b[0mx\u001b[0m \u001b[0;34m=\u001b[0m \u001b[0;36m7\u001b[0m\u001b[0;34m\u001b[0m\u001b[0;34m\u001b[0m\u001b[0m\n",
      "\u001b[0;31mUnboundLocalError\u001b[0m: local variable 'x' referenced before assignment"
     ]
    }
   ],
   "source": [
    "x = 1\n",
    "print(id(x))\n",
    "\n",
    "def a():\n",
    "    #global x\n",
    "    #print(id(x))\n",
    "    y = x\n",
    "    print(id(y))\n",
    "    x = 7 \n",
    "    print(id(x))\n",
    "\n",
    "a()\n",
    "print(id(x))"
   ]
  },
  {
   "cell_type": "code",
   "execution_count": 13,
   "metadata": {},
   "outputs": [],
   "source": [
    "a = 10"
   ]
  },
  {
   "cell_type": "code",
   "execution_count": 27,
   "metadata": {},
   "outputs": [
    {
     "name": "stdout",
     "output_type": "stream",
     "text": [
      "10\n",
      "11\n",
      "11\n",
      "12\n",
      "10\n",
      "11\n",
      "10\n",
      "11\n"
     ]
    }
   ],
   "source": [
    "a = 10\n",
    "def outer():\n",
    "    n = 10\n",
    "    # global a\n",
    "    print(a)\n",
    "    a += 1\n",
    "    print(a)\n",
    "    \n",
    "    def inner():\n",
    "        # global a\n",
    "        print(a)\n",
    "        a += 1\n",
    "        print(a)\n",
    "        # nonlocal n\n",
    "        print(n)\n",
    "        n += 1\n",
    "        print(n)\n",
    "        x = 10\n",
    "        print(x)\n",
    "        x += 1\n",
    "        print(x)\n",
    "     \n",
    "    inner()\n",
    "    \n",
    "outer()"
   ]
  },
  {
   "cell_type": "markdown",
   "metadata": {},
   "source": [
    " ## 호출 방식이 다른 데코레이터를 일관성 있게 하나로 작성하기 (Example - 4 Error 해결하기)"
   ]
  },
  {
   "cell_type": "code",
   "execution_count": 93,
   "metadata": {},
   "outputs": [],
   "source": [
    "from functools import wraps, partial\n",
    "import logging\n",
    "\n",
    "# *의 의미는 이 이후에 나오는 파라미터는 모두 keyword 파라미터임을 의미한다.\n",
    "def logged(func=None, *, level=logging.DEBUG, name=None, message=None):\n",
    "    if func is None:\n",
    "        return partial(logged, level=level, name=name, message=message)\n",
    "    \n",
    "    logname = name if name else func.__module__\n",
    "    log = logging.getLogger(logname)\n",
    "    logmsg = message if message else func.__name__\n",
    "\n",
    "    @wraps(func)\n",
    "    def wrapper(*args, **kwargs):\n",
    "        print(level, logmsg)\n",
    "        #log.log(level, logmsg)\n",
    "        return func(*args, **kwargs)\n",
    "    return wrapper"
   ]
  },
  {
   "cell_type": "code",
   "execution_count": 94,
   "metadata": {},
   "outputs": [],
   "source": [
    "@logged(level=logging.DEBUG)\n",
    "def add(x, y):\n",
    "    return x + y\n",
    "\n",
    "@logged\n",
    "def noneParam():\n",
    "    print(\"NONEPARAM!\")"
   ]
  },
  {
   "cell_type": "code",
   "execution_count": 33,
   "metadata": {
    "scrolled": false
   },
   "outputs": [
    {
     "name": "stdout",
     "output_type": "stream",
     "text": [
      "10 add\n"
     ]
    },
    {
     "data": {
      "text/plain": [
       "8"
      ]
     },
     "execution_count": 33,
     "metadata": {},
     "output_type": "execute_result"
    }
   ],
   "source": [
    "add(3, 5)"
   ]
  },
  {
   "cell_type": "code",
   "execution_count": 95,
   "metadata": {
    "scrolled": true
   },
   "outputs": [
    {
     "name": "stdout",
     "output_type": "stream",
     "text": [
      "10 noneParam\n",
      "NONEPARAM!\n"
     ]
    }
   ],
   "source": [
    "noneParam()"
   ]
  },
  {
   "cell_type": "markdown",
   "metadata": {},
   "source": [
    "```\n",
    "# A\n",
    "@logged\n",
    "def add(x, y):\n",
    "    return x + y\n",
    "```\n",
    "\n",
    "```\n",
    "# B\n",
    "def add(x, y):\n",
    "    return x + y\n",
    "add = logged(add)\n",
    "```\n",
    "\n",
    "A와 B는 같은 코드이다.\n",
    "감싸줄 함수를 logged에 첫 번째 매개변수로 넘겨준다.\n",
    "func이 None으로 왔으므로, partial 함수에 의해 func 매개변수를 받지 않는 logged 데코레이터가 생성된다.\n",
    "그리고 이 코드에서 logged()의 첫 번째 매개변수는 감싸줄 함수이다. "
   ]
  },
  {
   "cell_type": "markdown",
   "metadata": {},
   "source": [
    "```\n",
    "# C\n",
    "@logged(level=logging.CRITICAL, name='example')\n",
    "def spam():\n",
    "    print('SPAM')\n",
    "```\n",
    "\n",
    "```\n",
    "# D\n",
    "def spam():\n",
    "    print('SPAM')\n",
    "spam = logged(level=logging.CRITICAL, name='example')(spam)\n",
    "```\n",
    "\n",
    "C와 D는 같은 코드이다. \n"
   ]
  },
  {
   "cell_type": "markdown",
   "metadata": {},
   "source": [
    "### Partial 함수에 대해 짚고 넘어가자면, 단순히 기존의 함수와 구현은 동일하나, 파라미터만 미리 정해준 형태로 또 다른 함수를 생성하는 것이다."
   ]
  },
  {
   "cell_type": "code",
   "execution_count": 35,
   "metadata": {},
   "outputs": [
    {
     "name": "stdout",
     "output_type": "stream",
     "text": [
      "16\n",
      "\n",
      "functools.partial(<function power at 0x108276cb0>, exponent=2)\n",
      "16\n"
     ]
    }
   ],
   "source": [
    "from functools import partial\n",
    "\n",
    "def power(base, exponent):\n",
    "    return base ** exponent\n",
    "\n",
    "# 제곱을 구하는 함수를 구현하는 법 - 1\n",
    "def square(num):\n",
    "    return num ** 2\n",
    "\n",
    "print(square(4))\n",
    "print()\n",
    "\n",
    "# 제곱을 구하는 함수를 구현하는 법 - 2\n",
    "square = partial(power, exponent=2)\n",
    "print(square)\n",
    "print(square(4))"
   ]
  },
  {
   "cell_type": "markdown",
   "metadata": {},
   "source": [
    "## 3. Datetime"
   ]
  },
  {
   "cell_type": "markdown",
   "metadata": {},
   "source": [
    "시간에 대해 단위 변환(초->분 등) 이나 단위가 다른 값에 대한 계산을 하려면 datetime 모듈을 사용한다."
   ]
  },
  {
   "cell_type": "code",
   "execution_count": 38,
   "metadata": {},
   "outputs": [
    {
     "name": "stdout",
     "output_type": "stream",
     "text": [
      "c.days = 2 c.seconds = 37800\n"
     ]
    }
   ],
   "source": [
    "# 시간의 간격을 나타내기 위해서 timedelta 인스턴스를 사용한다.\n",
    "from datetime import timedelta\n",
    "a = timedelta(days=2, hours=6)\n",
    "b = timedelta(hours=4.5)\n",
    "c = a + b\n",
    "print(\"c.days =\", c.days, \"c.seconds =\", c.seconds)"
   ]
  },
  {
   "cell_type": "code",
   "execution_count": 59,
   "metadata": {
    "scrolled": false
   },
   "outputs": [
    {
     "name": "stdout",
     "output_type": "stream",
     "text": [
      "1590332400.0\n",
      "2020-05-25 00:00:00\n",
      "2020-06-04 00:00:00\n",
      "214\n",
      "2020-06-01 20:24:21.300340\n",
      "2020-06-01 20:34:21.300340\n"
     ]
    }
   ],
   "source": [
    "# 특정 날짜와 시간을 표현하려면 datetime 인스턴스를 만들고, 연산을 수행한다.\n",
    "from datetime import datetime\n",
    "a = datetime(2020, 5, 25)\n",
    "b = datetime(2020,5, 26)\n",
    "import time\n",
    "\n",
    "print(time.mktime(a.timetuple()))\n",
    "# print(a)\n",
    "# print(b-a)\n",
    "#print(timedelta(a).total_seconds())\n",
    "# print(a.timestamp)\n",
    "print(a)\n",
    "print(a + timedelta(days=10))\n",
    "b = datetime(2020, 12, 25)\n",
    "d = b - a\n",
    "print(d.days)\n",
    "\n",
    "now = datetime.today()\n",
    "print(now)\n",
    "print(now + timedelta(minutes=10))"
   ]
  },
  {
   "cell_type": "code",
   "execution_count": 40,
   "metadata": {},
   "outputs": [
    {
     "name": "stdout",
     "output_type": "stream",
     "text": [
      "2\n",
      "\n",
      "1\n"
     ]
    }
   ],
   "source": [
    "# datetime은 윤년을 인식하여 계산을 수행한다.\n",
    "a = datetime(2020, 3, 1)\n",
    "b = datetime(2020, 2, 28)\n",
    "a - b\n",
    "print((a - b).days)\n",
    "print()\n",
    "\n",
    "c = datetime(2021, 3, 1)\n",
    "d = datetime(2021, 2, 28)\n",
    "print((c - d).days)"
   ]
  },
  {
   "cell_type": "code",
   "execution_count": 35,
   "metadata": {},
   "outputs": [
    {
     "name": "stdout",
     "output_type": "stream",
     "text": [
      "9:44:51.074149\n"
     ]
    }
   ],
   "source": [
    "# 문자열 형식의 시간 데이터를 datetime 객체로 변환하고 싶을 때 사용한다.\n",
    "from datetime import datetime # from {filename} import {function}\n",
    "text_day = '2020-05-25'\n",
    "y = datetime.strptime(text_day, '%Y-%m-%d')\n",
    "z = datetime.now()\n",
    "diff = z - y\n",
    "print(diff)"
   ]
  },
  {
   "cell_type": "markdown",
   "metadata": {},
   "source": [
    "- 다만 strptime() 메서드는 순수 파이썬만을 사용해서 구현하였고, 시스템 설정과 같은 세세한 부분을 모두 처리하므로 예상보다 실행 속도가 느린 경우가 많다.\n",
    "- 만약 코드에서 처리해야 하는 날짜가 아주 많은데, 그 날짜 형식을 정확히 알고 있다면, 해결책을 직접 구현하는 것이 속도 측면에서 훨씬 유리하다."
   ]
  },
  {
   "cell_type": "code",
   "execution_count": 36,
   "metadata": {},
   "outputs": [],
   "source": [
    "# 예를 들어, 날짜 형식이 'YYYY-MM-DD' 라는 것이 분명하다면 다음과 같이 구현할 수 있다.\n",
    "from datetime import datetime\n",
    "def parse_ymd(s):\n",
    "    year_s, mon_s, day_s = s.split('-')\n",
    "    return datetime(int(year_s), int(mon_s), int(day_s))\n",
    "\n",
    "# Datetime 예제"
   ]
  },
  {
   "cell_type": "markdown",
   "metadata": {},
   "source": [
    "## 4. Collections"
   ]
  },
  {
   "cell_type": "markdown",
   "metadata": {},
   "source": [
    "파이썬의 dict, list, set, tuple을 대신할 특수 컨테이너 데이터 타입을 제공하는 모듈.\n",
    "> 기존 Collections Abstract Base Classes 모듈에서 Collections.abc 모듈로 이동하였고, 이전 버전의 호환성을 위해서 아직까지는 볼 수 있는 상태이다.\n",
    "\n",
    "> 3.3 버전부터 Deprecated 되었고, 3.10 버전에서는 아예 삭제될 예정이다."
   ]
  },
  {
   "cell_type": "markdown",
   "metadata": {},
   "source": [
    "### 4-1 ChainMap"
   ]
  },
  {
   "cell_type": "markdown",
   "metadata": {},
   "source": [
    "> dictionary를 리스트의 형태로 보관하는 자료구조로, dict를 새로 생성하거나 여러번 update()를 호출하는 것보다 빠르다. \n"
   ]
  },
  {
   "cell_type": "code",
   "execution_count": 12,
   "metadata": {},
   "outputs": [
    {
     "name": "stdout",
     "output_type": "stream",
     "text": [
      "coconut 1\n",
      "date 1\n",
      "apple 1\n",
      "banana 2\n",
      "\n",
      "apple 3\n",
      "banana 2\n",
      "coconut 1\n",
      "date 1\n"
     ]
    }
   ],
   "source": [
    "dict1 = {'apple': 1, 'banana': 2}\n",
    "dict2 = {'coconut': 1, 'date': 1, 'apple': 3}\n",
    "\n",
    "import collections\n",
    "\n",
    "combined_dict = collections.ChainMap(dict1, dict2)\n",
    "reverse_combined_dict = collections.ChainMap(dict2, dict1)\n",
    "\n",
    "for k, v in combined_dict.items():\n",
    "    print(k, v) # 먼저 만나는 key가 살아남는다.\n",
    "    \n",
    "print()\n",
    "\n",
    "for k, v in reverse_combined_dict.items():\n",
    "    print(k, v)"
   ]
  },
  {
   "cell_type": "markdown",
   "metadata": {},
   "source": [
    "### 4-2 Counter"
   ]
  },
  {
   "cell_type": "markdown",
   "metadata": {},
   "source": [
    "> 컨테이너에 동일한 값의 자료가 몇 개인지 파악하는데 사용할 수 있다.\n",
    "> 리턴 값은 딕셔너리 형태"
   ]
  },
  {
   "cell_type": "code",
   "execution_count": 66,
   "metadata": {},
   "outputs": [
    {
     "data": {
      "text/plain": [
       "{'H': 1, 'e': 1, 'l': 3, 'o': 2, ' ': 1, 'W': 1, 'r': 1, 'd': 1}"
      ]
     },
     "execution_count": 66,
     "metadata": {},
     "output_type": "execute_result"
    }
   ],
   "source": [
    "# 어떤 단어가 주어졌을 때, 해당 단어에 포함된 각 알파벳의 개수를 세는 함수를 짠다면\n",
    "\n",
    "def countLetters(word):\n",
    "    counter = {}\n",
    "    for letter in word:\n",
    "        if letter not in counter:\n",
    "            counter[letter] = 0\n",
    "        counter[letter] += 1\n",
    "    return counter\n",
    "\n",
    "countLetters(\"Hello World\")"
   ]
  },
  {
   "cell_type": "code",
   "execution_count": 67,
   "metadata": {},
   "outputs": [
    {
     "data": {
      "text/plain": [
       "Counter({'H': 1, 'e': 1, 'l': 3, 'o': 2, ' ': 1, 'W': 1, 'r': 1, 'd': 1})"
      ]
     },
     "execution_count": 67,
     "metadata": {},
     "output_type": "execute_result"
    }
   ],
   "source": [
    "# Counter를 이용하면 한 줄로 줄일 수 있다.\n",
    "from collections import Counter\n",
    "Counter(\"Hello World\")"
   ]
  },
  {
   "cell_type": "code",
   "execution_count": 68,
   "metadata": {},
   "outputs": [
    {
     "data": {
      "text/plain": [
       "[('l', 3),\n",
       " ('o', 2),\n",
       " ('H', 1),\n",
       " ('e', 1),\n",
       " (' ', 1),\n",
       " ('W', 1),\n",
       " ('r', 1),\n",
       " ('d', 1)]"
      ]
     },
     "execution_count": 68,
     "metadata": {},
     "output_type": "execute_result"
    }
   ],
   "source": [
    "# most_common(k) 와 같은 메서드를 제공하여, 가장 개수가 많은 k개의 데이터를 얻을 수 있음.\n",
    "Counter(\"Hello World\").most_common() # 개수가 많은 순서대로 정렬한 리스트로 반환"
   ]
  },
  {
   "cell_type": "markdown",
   "metadata": {},
   "source": [
    "#### Counter(\"Hello World\").most_common(2) # 가장 개수가 많은 2개의 데이터를 얻을 수 있음."
   ]
  },
  {
   "cell_type": "markdown",
   "metadata": {},
   "source": [
    "### 4-3 deque"
   ]
  },
  {
   "cell_type": "markdown",
   "metadata": {},
   "source": [
    "> double-ended queue로, 앞, 뒤 양방향에서 데이터를 처리할 수 있는 queue형 자료구조.\n",
    "느려지지 않는 queue"
   ]
  },
  {
   "cell_type": "code",
   "execution_count": 17,
   "metadata": {},
   "outputs": [
    {
     "name": "stdout",
     "output_type": "stream",
     "text": [
      "deque([10])\n",
      "\n",
      "deque([-1, 10])\n",
      "\n",
      "deque([-1, 10, 'e', 'a', 'f'])\n",
      "\n"
     ]
    }
   ],
   "source": [
    "dq = collections.deque()\n",
    "\n",
    "# append\n",
    "dq.append(10)\n",
    "print(dq)\n",
    "print()\n",
    "dq.appendleft(-1)\n",
    "print(dq)\n",
    "print()\n",
    "\n",
    "# iterable한 데이터를 끝에 추가하는 메서드 extend\n",
    "dq.extend('eaf')\n",
    "print(dq)\n",
    "print() # list의 경우, list.append('eaf')를 하게 되면 'eaf'가 곧대로 들어간다.)"
   ]
  },
  {
   "cell_type": "markdown",
   "metadata": {},
   "source": [
    "### 4-4 defaultdict"
   ]
  },
  {
   "cell_type": "markdown",
   "metadata": {},
   "source": [
    "> 기본 딕셔너리와 비슷하지만, key 값이 주어지지 않는 경우, 미리 지정해놓은 초기값을\n",
    "key로 반환해준다."
   ]
  },
  {
   "cell_type": "code",
   "execution_count": 61,
   "metadata": {},
   "outputs": [
    {
     "name": "stdout",
     "output_type": "stream",
     "text": [
      "{'a': 1, 'b': 2}\n"
     ]
    },
    {
     "ename": "KeyError",
     "evalue": "'c'",
     "output_type": "error",
     "traceback": [
      "\u001b[0;31m---------------------------------------------------------------------------\u001b[0m",
      "\u001b[0;31mKeyError\u001b[0m                                  Traceback (most recent call last)",
      "\u001b[0;32m<ipython-input-61-2d5c3e042c20>\u001b[0m in \u001b[0;36m<module>\u001b[0;34m\u001b[0m\n\u001b[1;32m      2\u001b[0m \u001b[0mdict1\u001b[0m \u001b[0;34m=\u001b[0m \u001b[0;34m{\u001b[0m\u001b[0;34m'a'\u001b[0m\u001b[0;34m:\u001b[0m \u001b[0;36m1\u001b[0m\u001b[0;34m,\u001b[0m \u001b[0;34m'b'\u001b[0m\u001b[0;34m:\u001b[0m \u001b[0;36m2\u001b[0m\u001b[0;34m}\u001b[0m\u001b[0;34m\u001b[0m\u001b[0;34m\u001b[0m\u001b[0m\n\u001b[1;32m      3\u001b[0m \u001b[0mprint\u001b[0m\u001b[0;34m(\u001b[0m\u001b[0mdict1\u001b[0m\u001b[0;34m)\u001b[0m\u001b[0;34m\u001b[0m\u001b[0;34m\u001b[0m\u001b[0m\n\u001b[0;32m----> 4\u001b[0;31m \u001b[0mprint\u001b[0m\u001b[0;34m(\u001b[0m\u001b[0mdict1\u001b[0m\u001b[0;34m[\u001b[0m\u001b[0;34m'c'\u001b[0m\u001b[0;34m]\u001b[0m\u001b[0;34m)\u001b[0m \u001b[0;31m# KeyError\u001b[0m\u001b[0;34m\u001b[0m\u001b[0;34m\u001b[0m\u001b[0m\n\u001b[0m",
      "\u001b[0;31mKeyError\u001b[0m: 'c'"
     ]
    }
   ],
   "source": [
    "# 일반 dict의 경우\n",
    "dict1 = {'a': 1, 'b': 2}\n",
    "print(dict1)\n",
    "print(dict1['c']) # KeyError"
   ]
  },
  {
   "cell_type": "code",
   "execution_count": 61,
   "metadata": {},
   "outputs": [
    {
     "name": "stdout",
     "output_type": "stream",
     "text": [
      "defaultdict(<function default_factory at 0x10935d680>, {'a': 1, 'b': 2})\n",
      "null\n"
     ]
    }
   ],
   "source": [
    "import collections\n",
    "# defaultdict의 경우\n",
    "def default_factory():\n",
    "    return 'null'\n",
    "\n",
    "# default_factory를 넣어주지 않으면, 기본 딕셔너리처럼 KeyError Exception이 발생.\n",
    "dict2 = collections.defaultdict(default_factory, a=1, b=2)\n",
    "print(dict2)\n",
    "print(dict2['c'])"
   ]
  },
  {
   "cell_type": "markdown",
   "metadata": {},
   "source": [
    "#### 기본 딕셔너리에서도 setdefault 메서드를 통해 초기값을 지정할 수 있도록 해주나, defaultdict의 default_factory가 더 간단하고 더 빠르다.\n",
    "\n",
    ">  The list.append() operation then attaches the value to the new list. When keys are encountered again, the look-up proceeds normally (returning the list for that key) and the list.append() operation adds another value to the list. This technique is simpler and faster than an equivalent technique using dict.setdefault():"
   ]
  },
  {
   "cell_type": "markdown",
   "metadata": {},
   "source": [
    "### 4-5 namedtuple"
   ]
  },
  {
   "cell_type": "code",
   "execution_count": 20,
   "metadata": {},
   "outputs": [
    {
     "name": "stdout",
     "output_type": "stream",
     "text": [
      "33\n",
      "\n",
      "11 22\n",
      "\n",
      "33\n",
      "\n",
      "Point(x=11, y=22)\n"
     ]
    }
   ],
   "source": [
    "# Basic Example\n",
    "Point = collections.namedtuple('Point', ['x', 'y'])\n",
    "p = Point(11, y=22)\n",
    "print(p[0]+p[1])\n",
    "print()\n",
    "x, y = p\n",
    "print(x, y)\n",
    "print()\n",
    "print(p.x+p.y)\n",
    "print()\n",
    "print(p)"
   ]
  },
  {
   "cell_type": "markdown",
   "metadata": {},
   "source": [
    "- Named tuple은 주로 csv나 sqlite3 모듈에서 반환되는 튜플에, 필드의 이름을 할당하는데 유용하다.\n",
    "- C언어의 구조체처럼 사용할 수 있다.\n"
   ]
  },
  {
   "cell_type": "markdown",
   "metadata": {},
   "source": [
    "### 4-6 OrderedDict"
   ]
  },
  {
   "cell_type": "markdown",
   "metadata": {},
   "source": [
    "> 딕셔너리와 거의 비슷하나, 입력된 item의 순서를 기억하는 딕셔너리로 sorted() \n",
    "메서드를 이용하여 정렬된 딕셔너리를 구성할 수 있다."
   ]
  },
  {
   "cell_type": "code",
   "execution_count": 39,
   "metadata": {},
   "outputs": [
    {
     "name": "stdout",
     "output_type": "stream",
     "text": [
      "dict1\n",
      " dict_keys(['aaa', 'bbb', 'ccc', 'ddd'])\n",
      "\n",
      "dict1 sorted\n",
      " ['aaa', 'bbb', 'ccc', 'ddd']\n",
      "\n",
      "dict2\n",
      " odict_keys(['aaa', 'bbb', 'ccc', 'ddd'])\n",
      "\n",
      "dict3\n",
      " odict_keys(['ccc', 'bbb', 'ddd', 'aaa'])\n"
     ]
    }
   ],
   "source": [
    "dict1 = {}\n",
    "dict1['aaa'] = 'A'\n",
    "dict1['bbb'] = 'B'\n",
    "dict1['ccc'] = 'C'\n",
    "dict1['ddd'] = 'D'\n",
    "\n",
    "dict2 = collections.OrderedDict()\n",
    "dict2['aaa'] = 'A'\n",
    "dict2['bbb'] = 'B'\n",
    "dict2['ccc'] = 'C'\n",
    "dict2['ddd'] = 'D'\n",
    "\n",
    "dict3 = collections.OrderedDict()\n",
    "dict3['ccc'] = 'C'\n",
    "dict3['bbb'] = 'B'\n",
    "dict3['ddd'] = 'D'\n",
    "dict3['aaa'] = 'A'\n",
    "\n",
    "print(\"dict1\\n\", dict1.keys())\n",
    "print()\n",
    "print(\"dict1 sorted\\n\", sorted(dict1.keys()))\n",
    "print()\n",
    "print(\"dict2\\n\", dict2.keys())\n",
    "print()\n",
    "print(\"dict3\\n\", dict3.keys())"
   ]
  },
  {
   "cell_type": "markdown",
   "metadata": {},
   "source": [
    "### 4-7 UserDict, UserList, UserString"
   ]
  },
  {
   "cell_type": "markdown",
   "metadata": {},
   "source": [
    "#### UserDict\n",
    "- 딕셔너리 객체의 wrapper 역할을 수행하는 클래스\n",
    "- dict보다는 UserDict를 상속해서 매핑형을 만드는 것이 쉽다. \n",
    "\n",
    "#### UserList와 UserString도 비슷한 역할을 한다.\n"
   ]
  },
  {
   "cell_type": "code",
   "execution_count": 91,
   "metadata": {},
   "outputs": [],
   "source": [
    "# 삽입, 갱신, 조회할 때, 비 문자열 키를 항상 문자열로 변환하는 함수 (일반 Dict 버전)\n",
    "class strKeyDict0(dict):\n",
    "    \n",
    "    # 존재하지 않는 키를 처리하는 메서드\n",
    "    # 기본 dict 클래스에는 정의되어 있지 않으나, dict 클래스를 상속하여 정의할 수 있다.\n",
    "    def __missing__(self, key):\n",
    "        if isinstance(key, str):\n",
    "            raise KeyError(key)\n",
    "        # isinstance()로 검사하지 않으면, str(key)가 없는 경우, 무한 루프에 빠진다.\n",
    "        return self[str(key)]\n",
    "    \n",
    "    def get(self, key, default=None):\n",
    "        try:\n",
    "            return self[key]\n",
    "        except KeyError:\n",
    "            return default\n",
    "    \n",
    "    # k in d 연산을 수행하면 __contains__() 메서드가 호출된다.\n",
    "    # 그러나 dict에서 상속받게 되면, dict의 기본 __contains__() 메서드는\n",
    "    # 우리가 __missing__() 메서드를 호출하지 않기 때문에\n",
    "    # __contains__() 메서드도 정의해주어야 한다.\n",
    "    def __contains__(self, key):\n",
    "        return key in self.keys() or str(key) in self.keys()"
   ]
  },
  {
   "cell_type": "code",
   "execution_count": 92,
   "metadata": {},
   "outputs": [
    {
     "name": "stdout",
     "output_type": "stream",
     "text": [
      "['__class__', '__contains__', '__delattr__', '__delitem__', '__dict__', '__dir__', '__doc__', '__eq__', '__format__', '__ge__', '__getattribute__', '__getitem__', '__gt__', '__hash__', '__init__', '__init_subclass__', '__iter__', '__le__', '__len__', '__lt__', '__missing__', '__module__', '__ne__', '__new__', '__reduce__', '__reduce_ex__', '__repr__', '__setattr__', '__setitem__', '__sizeof__', '__str__', '__subclasshook__', '__weakref__', 'clear', 'copy', 'fromkeys', 'get', 'items', 'keys', 'pop', 'popitem', 'setdefault', 'update', 'values']\n",
      "\n",
      "two\n",
      "\n",
      "four\n",
      "\n",
      "\n",
      "False\n",
      "\n",
      "True\n",
      "\n",
      "two\n",
      "\n",
      "four\n"
     ]
    }
   ],
   "source": [
    "d = strKeyDict0([('2', 'two'), ('4', 'four')])\n",
    "print(dir(d))\n",
    "print()\n",
    "print(d['2'])\n",
    "print()\n",
    "print(d[4]) # integer를 넣어도 값을 잘 가져옴.\n",
    "print()\n",
    "#print(d[1]) # KeyError\n",
    "print()\n",
    "print(1 in d)\n",
    "print()\n",
    "print(2 in d)\n",
    "print()\n",
    "print(d.get('2'))\n",
    "print()\n",
    "print(d.get(4)) # Get을 오버라이딩 하지 않으면 None 값이 뜸."
   ]
  },
  {
   "cell_type": "code",
   "execution_count": 69,
   "metadata": {},
   "outputs": [],
   "source": [
    "# 삽입, 갱신, 조회할 때, 비 문자열 키를 항상 문자열로 변환하는 함수 (UserDict 버전)\n",
    "import collections\n",
    "class strKeyDict(collections.UserDict):\n",
    "    \n",
    "    # 존재하지 않는 키를 처리하는 메서드\n",
    "    # 위처럼 dict를 상속해 처리하는 것도 가능하나, 본 예제처럼 UserDict를 상속하여\n",
    "    # 정의하는 것이 훨씬 낫다.\n",
    "    # 내장형에서는 아무런 문제 없이 상속할 수 있는 메서드들을 직접 오버라이드해야 하는 \n",
    "    # 구현의 특성 때문에 UserDict를 상속하는 편이 낫다. \n",
    "    def __missing__(self, key):\n",
    "        if isinstance(key, str):\n",
    "            raise KeyError(key)\n",
    "        return self[str(key)]\n",
    "    \n",
    "    # 저장된 키가 모두 str 형이므로, self.data를 통해 바로 조회할 수 있다.\n",
    "    def __contains__(self, key):\n",
    "        return str(key) in self.data\n",
    "    \n",
    "    def __setitem__(self, key, item):\n",
    "        self.data[str(key)] = item"
   ]
  },
  {
   "cell_type": "code",
   "execution_count": 80,
   "metadata": {},
   "outputs": [
    {
     "name": "stdout",
     "output_type": "stream",
     "text": [
      "['_MutableMapping__marker', '__abstractmethods__', '__class__', '__contains__', '__copy__', '__delattr__', '__delitem__', '__dict__', '__dir__', '__doc__', '__eq__', '__format__', '__ge__', '__getattribute__', '__getitem__', '__gt__', '__hash__', '__init__', '__init_subclass__', '__iter__', '__le__', '__len__', '__lt__', '__missing__', '__module__', '__ne__', '__new__', '__reduce__', '__reduce_ex__', '__repr__', '__reversed__', '__setattr__', '__setitem__', '__sizeof__', '__slots__', '__str__', '__subclasshook__', '__weakref__', '_abc_impl', 'clear', 'copy', 'data', 'fromkeys', 'get', 'items', 'keys', 'pop', 'popitem', 'setdefault', 'update', 'values']\n",
      "\n",
      "two\n",
      "\n",
      "four\n",
      "\n",
      "\n",
      "False\n",
      "\n",
      "True\n",
      "\n",
      "two\n"
     ]
    }
   ],
   "source": [
    "d = strKeyDict([('2', 'two'), ('4', 'four')])\n",
    "print(dir(d))\n",
    "print()\n",
    "print(d['2'])\n",
    "print()\n",
    "print(d[4]) # integer를 넣어도 값을 잘 가져옴.\n",
    "print()\n",
    "#print(d[1]) # KeyError\n",
    "print()\n",
    "print(1 in d)\n",
    "print()\n",
    "print(2 in d)\n",
    "print()\n",
    "print(d.get('2'))\n",
    "print(d.get)"
   ]
  },
  {
   "cell_type": "markdown",
   "metadata": {},
   "source": [
    "## 5. heapq"
   ]
  },
  {
   "cell_type": "markdown",
   "metadata": {},
   "source": [
    "> heapq 모듈은 우선 순위 큐 알고리즘이라고도 하며, heapq 알고리즘의 구현을 제공함\n",
    "힙은 모든 부모 노드가 자식 노드보다 작거나 같은 값을 가지는 이진 트리이다. \n",
    "여기서 가장 흥미로운 특성은 가장 작은 요소가 항상 root인 heap[0] 라는 것"
   ]
  },
  {
   "cell_type": "markdown",
   "metadata": {},
   "source": [
    "#### 정렬된 여러 시퀀스를 병합하여 순환하고 싶을 때 사용할 수 있다.\n",
    "- heapq.merge()는 아이템에 순환적으로 접근하며, 제공한 시퀀스를 한꺼번에 읽지 않는다. 따라서 아주 긴 시퀀스도 별다른 무리 없이 순환할 수 있다.\n",
    "- heapq.merge()에 넣는 시퀀스는 모두 정렬되어 있어야 한다. 또한 데이터가 정렬되어 있는지 확인하지 않는다. "
   ]
  },
  {
   "cell_type": "code",
   "execution_count": 25,
   "metadata": {},
   "outputs": [
    {
     "name": "stdout",
     "output_type": "stream",
     "text": [
      "1 2 4 5 6 7 10 11 \n",
      "5 6 2 7 4 10 1 11 \n"
     ]
    }
   ],
   "source": [
    "import heapq\n",
    "\n",
    "a = [1, 4, 7, 10]\n",
    "b = [2, 5, 6, 11]\n",
    "for c in heapq.merge(a, b):\n",
    "    print(c, end = ' ')\n",
    "print()\n",
    "\n",
    "# 정렬이 되어 있지 않은 경우에는 어떠한 경고도 없이 이상한 결과를 출력한다.\n",
    "e = [7, 4, 10, 1]\n",
    "f = [5, 6, 2 ,11]\n",
    "for g in heapq.merge(e, f):\n",
    "    print(g, end = ' ')\n",
    "print()"
   ]
  },
  {
   "cell_type": "markdown",
   "metadata": {},
   "source": [
    "#### N개의 아이템의 최대 혹은 최솟값을 찾을 때 사용한다.\n",
    "- 컬렉션 내부에서 가장 크거나, 가장 작은 N개의 아이템을 찾아야 하는 경우 heapq.nlargest()와 heapq.nsmallest() 메서드를 사용할 수 있다.\n",
    "- N이 컬렉션의 전체 크기보다 작다면, 이 함수를 사용하여 해결하는 것이 더 나은 성능을 제공한다.\n"
   ]
  },
  {
   "cell_type": "code",
   "execution_count": 23,
   "metadata": {},
   "outputs": [
    {
     "name": "stdout",
     "output_type": "stream",
     "text": [
      "[42, 37, 23]\n",
      "\n",
      "[-4, 1, 2]\n",
      "\n",
      "[{'name': 'YHOO', 'shares': 45, 'price': 16.35}, {'name': 'FB', 'shares': 200, 'price': 21.09}, {'name': 'HPQ', 'shares': 35, 'price': 31.75}]\n",
      "\n",
      "[{'name': 'AAPL', 'shares': 50, 'price': 543.22}, {'name': 'ACME', 'shares': 75, 'price': 115.65}, {'name': 'IBM', 'shares': 100, 'price': 91.1}]\n"
     ]
    }
   ],
   "source": [
    "import heapq\n",
    "\n",
    "nums = [1, 8, 2, 23, 7, -4, 18, 23, 42, 37, 2]\n",
    "print(heapq.nlargest(3, nums))\n",
    "print()\n",
    "print(heapq.nsmallest(3, nums))\n",
    "print()\n",
    "portfolio = [\n",
    "    {'name': 'IBM', 'shares': 100, 'price': 91.1},\n",
    "    {'name': 'AAPL', 'shares': 50, 'price': 543.22},\n",
    "    {'name': 'FB', 'shares': 200, 'price': 21.09},\n",
    "    {'name': 'HPQ', 'shares': 35, 'price': 31.75},\n",
    "    {'name': 'YHOO', 'shares': 45, 'price': 16.35},\n",
    "    {'name': 'ACME', 'shares': 75, 'price': 115.65}\n",
    "]\n",
    "cheap = heapq.nsmallest(3, portfolio, key=lambda s: s['price'])\n",
    "expensive = heapq.nlargest(3, portfolio, key=lambda s: s['price'])\n",
    "print(cheap)\n",
    "print()\n",
    "print(expensive)"
   ]
  },
  {
   "cell_type": "code",
   "execution_count": 9,
   "metadata": {},
   "outputs": [
    {
     "name": "stdout",
     "output_type": "stream",
     "text": [
      "[1, 4, 7]\n",
      "1\n",
      "[4, 7]\n",
      "4\n",
      "[1, 3, 5, 4, 8, 7]\n"
     ]
    }
   ],
   "source": [
    "import heapq\n",
    "\n",
    "heap = []\n",
    "\n",
    "# 힙에 원소 추가하기\n",
    "heapq.heappush(heap, 4)\n",
    "heapq.heappush(heap, 1)\n",
    "heapq.heappush(heap, 7)\n",
    "\n",
    "print(heap)\n",
    "\n",
    "# heappush()과 heappop() 메서드는 O(logN)의 시간복잡도를 갖는다.\n",
    "# 이는 내부적으로 heap 형태를 유지하면서 데이터를 추가하거나 뽑기 때문이다.\n",
    "\n",
    "#힙에서 원소 삭제하기\n",
    "print(heapq.heappop(heap))\n",
    "print(heap)\n",
    "\n",
    "# 최솟값 확인하기\n",
    "print(heap[0])\n",
    "\n",
    "# 기존의 리스트를 힙으로 변환하기 O(n)\n",
    "heap = [4, 1, 7, 3, 8, 5]\n",
    "heapq.heapify(heap)\n",
    "print(heap)"
   ]
  },
  {
   "cell_type": "markdown",
   "metadata": {},
   "source": [
    "## 6. copy"
   ]
  },
  {
   "cell_type": "markdown",
   "metadata": {},
   "source": [
    "### 6-1 얕은 복사"
   ]
  },
  {
   "cell_type": "code",
   "execution_count": 55,
   "metadata": {},
   "outputs": [
    {
     "name": "stdout",
     "output_type": "stream",
     "text": [
      "id(a) :  4608896128\n",
      "id(b) :  4600832160\n",
      "a == b :  True\n",
      "a is b :  False\n",
      "a:  [1, 2, 3]\n",
      "b:  [5, 2, 3]\n"
     ]
    }
   ],
   "source": [
    "# list를 가지고 예를 들어보기\n",
    "a = [1,2,3]\n",
    "b = a[:] \n",
    "\n",
    "print(\"id(a) : \", id(a))\n",
    "print(\"id(b) : \", id(b))\n",
    "\n",
    "print(\"a == b : \", a == b)\n",
    "print(\"a is b : \", a is b)\n",
    "\n",
    "b[0] = 5\n",
    "\n",
    "print(\"a: \", a) # b가 달라진다고 해서 a가 달라지는 것은 아님.\n",
    "print(\"b: \", b)"
   ]
  },
  {
   "cell_type": "code",
   "execution_count": 59,
   "metadata": {},
   "outputs": [
    {
     "name": "stdout",
     "output_type": "stream",
     "text": [
      "id(a) :  4586968560\n",
      "id(b) :  4609258752\n",
      "id(a[0]) :  4614073312\n",
      "id(b[0]) :  4614073312\n",
      "a is b :  False\n",
      "a[0] is b[0] :  True\n"
     ]
    }
   ],
   "source": [
    "# 문제는 mutable 객체 내에 mutable 객체가 있는 경우에 발생.\n",
    "a = [[1,2], [3,4]]\n",
    "b = a[:]\n",
    "\n",
    "print(\"id(a) : \", id(a))\n",
    "print(\"id(b) : \", id(b))\n",
    "\n",
    "print(\"id(a[0]) : \", id(a[0]))\n",
    "print(\"id(b[0]) : \", id(b[0]))\n",
    "\n",
    "print(\"a is b : \", a is b)\n",
    "print(\"a[0] is b[0] : \", a[0] is b[0]) # 겉은 다르지만, 속은 같다!"
   ]
  },
  {
   "cell_type": "code",
   "execution_count": 62,
   "metadata": {},
   "outputs": [
    {
     "name": "stdout",
     "output_type": "stream",
     "text": [
      "a :  [[8, 9], [3, 4]]\n",
      "b :  [[1, 2], [3, 4]]\n",
      "id(a[0]) :  4598125184\n",
      "id(b[0]) :  4614073312\n",
      "a[0] is b[0] :  False\n"
     ]
    }
   ],
   "source": [
    "# 재할당하는 경우에는 메모리 주소가 변경되므로 문제가 없음\n",
    "a[0] = [8,9]\n",
    "print(\"a : \", a)\n",
    "print(\"b : \", b)\n",
    "print(\"id(a[0]) : \", id(a[0]))\n",
    "print(\"id(b[0]) : \", id(b[0]))\n",
    "print(\"a[0] is b[0] : \", a[0] is b[0]) # a[0]을 재할당하여 메모리 주소도 달라짐."
   ]
  },
  {
   "cell_type": "code",
   "execution_count": 63,
   "metadata": {},
   "outputs": [
    {
     "name": "stdout",
     "output_type": "stream",
     "text": [
      "a :  [[8, 9], [3, 4, 5]]\n",
      "b :  [[1, 2], [3, 4, 5]]\n",
      "id(a[1]) :  4591164064\n",
      "id(b[1]) :  4591164064\n",
      "a[1] is b[1] :  True\n"
     ]
    }
   ],
   "source": [
    "# 그러나 a[1]의 값을 \"변경\"하면 문제가 발생. b[1]도 함께 변경됨\n",
    "a[1].append(5)\n",
    "print(\"a : \", a)\n",
    "print(\"b : \", b)\n",
    "print(\"id(a[1]) : \", id(a[1]))\n",
    "print(\"id(b[1]) : \", id(b[1]))\n",
    "print(\"a[1] is b[1] : \", a[1] is b[1]) # a[1]의 값을 변경하면 b[1]도 함께 변경됨."
   ]
  },
  {
   "cell_type": "code",
   "execution_count": 64,
   "metadata": {},
   "outputs": [
    {
     "name": "stdout",
     "output_type": "stream",
     "text": [
      "a :  [[1, 2], [3, 4, 5]]\n",
      "b :  [[1, 2], [3, 4, 5]]\n"
     ]
    }
   ],
   "source": [
    "# copy 모듈의 얕은 복사 메서드인 copy()도 같은 상황이 발생함\n",
    "import copy\n",
    "a = [[1,2], [3,4]]\n",
    "b = copy.copy(a)\n",
    "a[1].append(5)\n",
    "print(\"a : \", a)\n",
    "print(\"b : \", b)"
   ]
  },
  {
   "cell_type": "code",
   "execution_count": null,
   "metadata": {},
   "outputs": [],
   "source": [
    "# 이러한 상황을 해결하기 위해서 깊은 복사가 필요함"
   ]
  },
  {
   "cell_type": "markdown",
   "metadata": {},
   "source": [
    "### 6-2 깊은 복사"
   ]
  },
  {
   "cell_type": "code",
   "execution_count": 65,
   "metadata": {},
   "outputs": [
    {
     "name": "stdout",
     "output_type": "stream",
     "text": [
      "a :  [[1, 2], [3, 4, 5]]\n",
      "b :  [[1, 2], [3, 4]]\n"
     ]
    }
   ],
   "source": [
    "a = [[1,2], [3,4]]\n",
    "b = copy.deepcopy(a) # 내부의 객체까지 모두 새롭게 copy되는 방식.\n",
    "a[1].append(5)\n",
    "print(\"a : \", a)\n",
    "print(\"b : \", b)"
   ]
  },
  {
   "cell_type": "markdown",
   "metadata": {},
   "source": [
    "## 7. pprint"
   ]
  },
  {
   "cell_type": "markdown",
   "metadata": {},
   "source": [
    "### 7-1 리스트를 간결하게 출력해보기"
   ]
  },
  {
   "cell_type": "code",
   "execution_count": 6,
   "metadata": {},
   "outputs": [
    {
     "name": "stdout",
     "output_type": "stream",
     "text": [
      "[[1, 2, 3], [4, 5], [6, 7, 8, 9]]\n",
      "\n",
      "[1, 2, 3] [4, 5] [6, 7, 8, 9]\n",
      "\n",
      "[[1, 2, 3], [4, 5], [6, 7, 8, 9]]\n",
      "\n",
      "[[1, 2, 3],\n",
      " [4, 5],\n",
      " [6, 7, 8, 9]]\n",
      "\n",
      "[   [1, 2, 3],\n",
      "    [4, 5],\n",
      "    [6, 7, 8, 9]]\n",
      "\n",
      "[   [1, 2, 3],\n",
      "    [4, 5],\n",
      "    [6, 7, 8, 9]]\n"
     ]
    }
   ],
   "source": [
    "numbers = [[1, 2, 3], [4, 5], [6, 7, 8, 9]]\n",
    "print(numbers)\n",
    "print()\n",
    "print(*numbers)\n",
    "\n",
    "from pprint import pprint, PrettyPrinter\n",
    "print()\n",
    "\n",
    "# 일반 출력(자동으로 줄바꿈이 이루어짐)\n",
    "pprint(numbers)\n",
    "print()\n",
    "\n",
    "# 간격 설정 추가\n",
    "pprint(numbers, width=20)\n",
    "print()\n",
    "\n",
    "# 들여쓰기 설정 추가\n",
    "pprint(numbers, width=20, indent=4)\n",
    "print()\n",
    "\n",
    "# PrettyPrinter 객체를 생성해서 쓰기\n",
    "pp = PrettyPrinter(width=20, indent=4)\n",
    "pp.pprint(numbers)"
   ]
  },
  {
   "cell_type": "markdown",
   "metadata": {},
   "source": [
    "### 7-2 딕셔너리를 간결하게 출력해보기"
   ]
  },
  {
   "cell_type": "code",
   "execution_count": 5,
   "metadata": {},
   "outputs": [
    {
     "name": "stdout",
     "output_type": "stream",
     "text": [
      "{'name': 'oh', 'age': 26, 'addr': 'dongjakgu'}\n",
      "\n",
      "name age addr\n",
      "\n",
      "['name', 'age', 'addr']\n",
      "\n",
      "[('name', 'oh'), ('age', 26), ('addr', 'dongjakgu')]\n",
      "\n",
      "('name', 'oh') ('age', 26) ('addr', 'dongjakgu')\n",
      "\n",
      "{'addr': 'dongjakgu', 'age': 26, 'name': 'oh'}\n",
      "\n",
      "{'addr': 'dongjakgu',\n",
      " 'age': 26,\n",
      " 'name': 'oh'}\n",
      "\n",
      "{   'addr': 'dongjakgu',\n",
      "    'age': 26,\n",
      "    'name': 'oh'}\n"
     ]
    }
   ],
   "source": [
    "from pprint import pprint\n",
    "\n",
    "info = {\"name\":'oh', \"age\":26, \"addr\":'dongjakgu'}\n",
    "print(info)\n",
    "print()\n",
    "\n",
    "print(*info)\n",
    "print()\n",
    "\n",
    "print([k for k in info])\n",
    "print()\n",
    "\n",
    "print([(k, info[k]) for k in info])\n",
    "print()\n",
    "\n",
    "print(*[(k, info[k]) for k in info])\n",
    "print()\n",
    "\n",
    "# 일반 출력\n",
    "pprint(info)\n",
    "print()\n",
    "\n",
    "# 간격 설정 추가\n",
    "pprint(info, width=20)\n",
    "print()\n",
    "\n",
    "# 들여쓰기 설정 추가\n",
    "pprint(info, width=20, indent=4)"
   ]
  },
  {
   "cell_type": "markdown",
   "metadata": {},
   "source": [
    "## 생각해볼 문제\n",
    "### n번째 피보나치 수를 구하는 코드를 데코레이터를 활용하여 구현해보자.\n",
    "\n",
    "[go to the answer](./answer.py)"
   ]
  },
  {
   "cell_type": "markdown",
   "metadata": {},
   "source": [
    "## 참고\n",
    "* [Closure-1](http://schoolofweb.net/blog/posts/%ED%8C%8C%EC%9D%B4%EC%8D%AC-%ED%81%B4%EB%A1%9C%EC%A0%80-closure/)\n",
    "* [Closure-2](https://shoark7.github.io/programming/python/closure-in-python)\n",
    "* [ChainMap](https://riptutorial.com/ko/python/example/30550/컬렉션--chainmap)\n",
    "* [UserDict](https://books.google.co.kr/books?id=NJpIDwAAQBAJ&pg=PA124&lpg=PA124&dq=userdict&source=bl&ots=el-ThKLKWt&sig=ACfU3U05dlBwlFk2YUY73s8F78JlR0pexQ&hl=ko&sa=X&ved=2ahUKEwjAyv6X3M3pAhVVJaYKHQ3UD8M4ChDoATAGegQICBAB#v=onepage&q=userdict&f=false)\n",
    "* [Python Cookbook](https://www.google.com/url?sa=t&rct=j&q=&esrc=s&source=web&cd=&ved=2ahUKEwj-sbTx683pAhVNFqYKHYMxBgAQFjAAegQIAxAB&url=https%3A%2F%2Fwww.amazon.com%2FPython-Cookbook-Third-David-Beazley%2Fdp%2F1449340377&usg=AOvVaw3sPntbcfHMFU_LS4nBnlje)\n",
    "* [Partial](http://www.incodom.kr/%ED%8C%8C%EC%9D%B4%EC%8D%AC/%ED%95%A8%EC%88%98)"
   ]
  }
 ],
 "metadata": {
  "kernelspec": {
   "display_name": "Python 3",
   "language": "python",
   "name": "python3"
  },
  "language_info": {
   "codemirror_mode": {
    "name": "ipython",
    "version": 3
   },
   "file_extension": ".py",
   "mimetype": "text/x-python",
   "name": "python",
   "nbconvert_exporter": "python",
   "pygments_lexer": "ipython3",
   "version": "3.7.6"
  }
 },
 "nbformat": 4,
 "nbformat_minor": 4
}

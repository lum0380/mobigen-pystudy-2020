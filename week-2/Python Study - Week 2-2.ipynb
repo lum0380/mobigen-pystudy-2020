{
 "cells": [
  {
   "cell_type": "markdown",
   "metadata": {},
   "source": [
    "# Python Study - 2-2주차 자료입니다. (Jaewook Oh)"
   ]
  },
  {
   "cell_type": "markdown",
   "metadata": {},
   "source": [
    "## Contents\n",
    "- Data Types\n",
    "    - collections\n",
    "    - heapq\n",
    "    - copy\n",
    "    - pprint"
   ]
  },
  {
   "cell_type": "markdown",
   "metadata": {},
   "source": [
    "## 4. Collections"
   ]
  },
  {
   "cell_type": "markdown",
   "metadata": {},
   "source": [
    "파이썬의 dict, list, set, tuple을 대신할 특수 컨테이너 데이터 타입을 제공하는 모듈."
   ]
  },
  {
   "cell_type": "markdown",
   "metadata": {},
   "source": [
    "### 4-1 ChainMap"
   ]
  },
  {
   "cell_type": "markdown",
   "metadata": {},
   "source": [
    "> dictionary를 리스트의 형태로 보관하는 자료구조로, dict를 새로 생성하거나 여러번 update()를 호출하는 것보다 빠르다. \n"
   ]
  },
  {
   "cell_type": "code",
   "execution_count": 12,
   "metadata": {},
   "outputs": [
    {
     "name": "stdout",
     "output_type": "stream",
     "text": [
      "coconut 1\n",
      "date 1\n",
      "apple 1\n",
      "banana 2\n",
      "\n",
      "apple 3\n",
      "banana 2\n",
      "coconut 1\n",
      "date 1\n"
     ]
    }
   ],
   "source": [
    "dict1 = {'apple': 1, 'banana': 2}\n",
    "dict2 = {'coconut': 1, 'date': 1, 'apple': 3}\n",
    "\n",
    "import collections\n",
    "\n",
    "combined_dict = collections.ChainMap(dict1, dict2)\n",
    "reverse_combined_dict = collections.ChainMap(dict2, dict1)\n",
    "\n",
    "for k, v in combined_dict.items():\n",
    "    print(k, v) # 먼저 만나는 key가 살아남는다.\n",
    "    \n",
    "print()\n",
    "\n",
    "for k, v in reverse_combined_dict.items():\n",
    "    print(k, v)"
   ]
  },
  {
   "cell_type": "markdown",
   "metadata": {},
   "source": [
    "### 4-2 Counter"
   ]
  },
  {
   "cell_type": "markdown",
   "metadata": {},
   "source": [
    "> 컨테이너에 동일한 값의 자료가 몇 개인지 파악하는데 사용할 수 있다.\n",
    "> 리턴 값은 딕셔너리 형태"
   ]
  },
  {
   "cell_type": "code",
   "execution_count": 66,
   "metadata": {},
   "outputs": [
    {
     "data": {
      "text/plain": [
       "{'H': 1, 'e': 1, 'l': 3, 'o': 2, ' ': 1, 'W': 1, 'r': 1, 'd': 1}"
      ]
     },
     "execution_count": 66,
     "metadata": {},
     "output_type": "execute_result"
    }
   ],
   "source": [
    "# 어떤 단어가 주어졌을 때, 해당 단어에 포함된 각 알파벳의 개수를 세는 함수를 짠다면\n",
    "\n",
    "def countLetters(word):\n",
    "    counter = {}\n",
    "    for letter in word:\n",
    "        if letter not in counter:\n",
    "            counter[letter] = 0\n",
    "        counter[letter] += 1\n",
    "    return counter\n",
    "\n",
    "countLetters(\"Hello World\")"
   ]
  },
  {
   "cell_type": "code",
   "execution_count": 67,
   "metadata": {},
   "outputs": [
    {
     "data": {
      "text/plain": [
       "Counter({'H': 1, 'e': 1, 'l': 3, 'o': 2, ' ': 1, 'W': 1, 'r': 1, 'd': 1})"
      ]
     },
     "execution_count": 67,
     "metadata": {},
     "output_type": "execute_result"
    }
   ],
   "source": [
    "# Counter를 이용하면 한 줄로 줄일 수 있다.\n",
    "from collections import Counter\n",
    "Counter(\"Hello World\")"
   ]
  },
  {
   "cell_type": "code",
   "execution_count": 68,
   "metadata": {},
   "outputs": [
    {
     "data": {
      "text/plain": [
       "[('l', 3),\n",
       " ('o', 2),\n",
       " ('H', 1),\n",
       " ('e', 1),\n",
       " (' ', 1),\n",
       " ('W', 1),\n",
       " ('r', 1),\n",
       " ('d', 1)]"
      ]
     },
     "execution_count": 68,
     "metadata": {},
     "output_type": "execute_result"
    }
   ],
   "source": [
    "# most_common(k) 와 같은 메서드를 제공하여, 가장 개수가 많은 k개의 데이터를 얻을 수 있음.\n",
    "Counter(\"Hello World\").most_common() # 개수가 많은 순서대로 정렬한 리스트로 반환"
   ]
  },
  {
   "cell_type": "markdown",
   "metadata": {},
   "source": [
    "#### Counter(\"Hello World\").most_common(2) # 가장 개수가 많은 2개의 데이터를 얻을 수 있음."
   ]
  },
  {
   "cell_type": "markdown",
   "metadata": {},
   "source": [
    "### 4-3 deque"
   ]
  },
  {
   "cell_type": "markdown",
   "metadata": {},
   "source": [
    "> double-ended queue로, 앞, 뒤 양방향에서 데이터를 처리할 수 있는 queue형 자료구조.\n",
    "느려지지 않는 queue"
   ]
  },
  {
   "cell_type": "code",
   "execution_count": 17,
   "metadata": {},
   "outputs": [
    {
     "name": "stdout",
     "output_type": "stream",
     "text": [
      "deque([10])\n",
      "\n",
      "deque([-1, 10])\n",
      "\n",
      "deque([-1, 10, 'e', 'a', 'f'])\n",
      "\n"
     ]
    }
   ],
   "source": [
    "dq = collections.deque()\n",
    "\n",
    "# append\n",
    "dq.append(10)\n",
    "print(dq)\n",
    "print()\n",
    "dq.appendleft(-1)\n",
    "print(dq)\n",
    "print()\n",
    "\n",
    "# iterable한 데이터를 끝에 추가하는 메서드 extend\n",
    "dq.extend('eaf')\n",
    "print(dq)\n",
    "print() # list의 경우, list.append('eaf')를 하게 되면 'eaf'가 곧대로 들어간다.)"
   ]
  },
  {
   "cell_type": "markdown",
   "metadata": {},
   "source": [
    "### 4-4 defaultdict"
   ]
  },
  {
   "cell_type": "markdown",
   "metadata": {},
   "source": [
    "> 기본 딕셔너리와 비슷하지만, key 값이 주어지지 않는 경우, 미리 지정해놓은 초기값을\n",
    "key로 반환해준다."
   ]
  },
  {
   "cell_type": "code",
   "execution_count": 61,
   "metadata": {},
   "outputs": [
    {
     "name": "stdout",
     "output_type": "stream",
     "text": [
      "{'a': 1, 'b': 2}\n"
     ]
    },
    {
     "ename": "KeyError",
     "evalue": "'c'",
     "output_type": "error",
     "traceback": [
      "\u001b[0;31m---------------------------------------------------------------------------\u001b[0m",
      "\u001b[0;31mKeyError\u001b[0m                                  Traceback (most recent call last)",
      "\u001b[0;32m<ipython-input-61-2d5c3e042c20>\u001b[0m in \u001b[0;36m<module>\u001b[0;34m\u001b[0m\n\u001b[1;32m      2\u001b[0m \u001b[0mdict1\u001b[0m \u001b[0;34m=\u001b[0m \u001b[0;34m{\u001b[0m\u001b[0;34m'a'\u001b[0m\u001b[0;34m:\u001b[0m \u001b[0;36m1\u001b[0m\u001b[0;34m,\u001b[0m \u001b[0;34m'b'\u001b[0m\u001b[0;34m:\u001b[0m \u001b[0;36m2\u001b[0m\u001b[0;34m}\u001b[0m\u001b[0;34m\u001b[0m\u001b[0;34m\u001b[0m\u001b[0m\n\u001b[1;32m      3\u001b[0m \u001b[0mprint\u001b[0m\u001b[0;34m(\u001b[0m\u001b[0mdict1\u001b[0m\u001b[0;34m)\u001b[0m\u001b[0;34m\u001b[0m\u001b[0;34m\u001b[0m\u001b[0m\n\u001b[0;32m----> 4\u001b[0;31m \u001b[0mprint\u001b[0m\u001b[0;34m(\u001b[0m\u001b[0mdict1\u001b[0m\u001b[0;34m[\u001b[0m\u001b[0;34m'c'\u001b[0m\u001b[0;34m]\u001b[0m\u001b[0;34m)\u001b[0m \u001b[0;31m# KeyError\u001b[0m\u001b[0;34m\u001b[0m\u001b[0;34m\u001b[0m\u001b[0m\n\u001b[0m",
      "\u001b[0;31mKeyError\u001b[0m: 'c'"
     ]
    }
   ],
   "source": [
    "# 일반 dict의 경우\n",
    "dict1 = {'a': 1, 'b': 2}\n",
    "print(dict1)\n",
    "print(dict1['c']) # KeyError"
   ]
  },
  {
   "cell_type": "code",
   "execution_count": 61,
   "metadata": {},
   "outputs": [
    {
     "name": "stdout",
     "output_type": "stream",
     "text": [
      "defaultdict(<function default_factory at 0x10935d680>, {'a': 1, 'b': 2})\n",
      "null\n"
     ]
    }
   ],
   "source": [
    "import collections\n",
    "# defaultdict의 경우\n",
    "def default_factory():\n",
    "    return 'null'\n",
    "\n",
    "# default_factory를 넣어주지 않으면, 기본 딕셔너리처럼 KeyError Exception이 발생.\n",
    "dict2 = collections.defaultdict(default_factory, a=1, b=2)\n",
    "print(dict2)\n",
    "print(dict2['c'])"
   ]
  },
  {
   "cell_type": "markdown",
   "metadata": {},
   "source": [
    "#### 기본 딕셔너리에서도 setdefault 메서드를 통해 초기값을 지정할 수 있도록 해주나, defaultdict의 default_factory가 더 간단하고 더 빠르다.\n",
    "\n",
    ">  The list.append() operation then attaches the value to the new list. When keys are encountered again, the look-up proceeds normally (returning the list for that key) and the list.append() operation adds another value to the list. This technique is simpler and faster than an equivalent technique using dict.setdefault():"
   ]
  },
  {
   "cell_type": "markdown",
   "metadata": {},
   "source": [
    "### 4-5 namedtuple"
   ]
  },
  {
   "cell_type": "code",
   "execution_count": 20,
   "metadata": {},
   "outputs": [
    {
     "name": "stdout",
     "output_type": "stream",
     "text": [
      "33\n",
      "\n",
      "11 22\n",
      "\n",
      "33\n",
      "\n",
      "Point(x=11, y=22)\n"
     ]
    }
   ],
   "source": [
    "# Basic Example\n",
    "Point = collections.namedtuple('Point', ['x', 'y'])\n",
    "p = Point(11, y=22)\n",
    "print(p[0]+p[1])\n",
    "print()\n",
    "x, y = p\n",
    "print(x, y)\n",
    "print()\n",
    "print(p.x+p.y)\n",
    "print()\n",
    "print(p)"
   ]
  },
  {
   "cell_type": "markdown",
   "metadata": {},
   "source": [
    "- Named tuple은 주로 csv나 sqlite3 모듈에서 반환되는 튜플에, 필드의 이름을 할당하는데 유용하다.\n",
    "- C언어의 구조체처럼 사용할 수 있다.\n"
   ]
  },
  {
   "cell_type": "markdown",
   "metadata": {},
   "source": [
    "### 4-6 OrderedDict"
   ]
  },
  {
   "cell_type": "markdown",
   "metadata": {},
   "source": [
    "> 딕셔너리와 거의 비슷하나, 입력된 item의 순서를 기억하는 딕셔너리로 sorted() \n",
    "메서드를 이용하여 정렬된 딕셔너리를 구성할 수 있다.\n",
    "\n",
    "참고 ([Python3.6에서는 dict가 입력순으로 정렬된다.](https://yuda.dev/240))\n",
    "\n",
    "단, Python 3.6부터는 기본 딕셔너리도 입력 순서를 기억한다.\n",
    "Python 3.5 이하에서는 딕셔너리에 순서라는 것이 없었고, 값을 키로 찾기 때문에 순서를 신경 쓸 필요가 없었다. \n",
    "\n",
    "한편, Python 3.6 부터는 모든 키 값이 '입력순으로' 저장된다. \n",
    "\n",
    "이러한 업데이트는 성능 때문이라고 한다."
   ]
  },
  {
   "cell_type": "code",
   "execution_count": 13,
   "metadata": {},
   "outputs": [
    {
     "name": "stdout",
     "output_type": "stream",
     "text": [
      "dict1\n",
      " dict_keys(['aaa', 'bbb', 'ccc', 'ddd', 'eee', 'xxx', 'fff', 'ggg'])\n",
      "\n",
      "dict1 sorted\n",
      " ['aaa', 'bbb', 'ccc', 'ddd', 'eee', 'fff', 'ggg', 'xxx']\n",
      "\n",
      "dict2\n",
      " odict_keys(['aaa', 'bbb', 'ccc', 'ddd'])\n",
      "\n",
      "dict3\n",
      " odict_keys(['ccc', 'bbb', 'ddd', 'aaa'])\n"
     ]
    }
   ],
   "source": [
    "from collections import OrderedDict\n",
    "\n",
    "dict1 = {}\n",
    "dict1['aaa'] = 'A'\n",
    "dict1['bbb'] = 'B'\n",
    "dict1['ccc'] = 'C'\n",
    "dict1['ddd'] = 'D'\n",
    "dict1['eee'] = 'E'\n",
    "dict1['xxx'] = 'X'\n",
    "dict1['fff'] = 'F'\n",
    "dict1['ggg'] = 'G'\n",
    "\n",
    "dict2 = OrderedDict()\n",
    "dict2['aaa'] = 'A'\n",
    "dict2['bbb'] = 'B'\n",
    "dict2['ccc'] = 'C'\n",
    "dict2['ddd'] = 'D'\n",
    "\n",
    "dict3 = OrderedDict()\n",
    "dict3['ccc'] = 'C'\n",
    "dict3['bbb'] = 'B'\n",
    "dict3['ddd'] = 'D'\n",
    "dict3['aaa'] = 'A'\n",
    "\n",
    "print(\"dict1\\n\", dict1.keys())\n",
    "print()\n",
    "print(\"dict1 sorted\\n\", sorted(dict1.keys()))\n",
    "print()\n",
    "print(\"dict2\\n\", dict2.keys())\n",
    "print()\n",
    "print(\"dict3\\n\", dict3.keys())"
   ]
  },
  {
   "cell_type": "markdown",
   "metadata": {},
   "source": [
    "3.6 버전부터는 딕셔너리를 위해 두 개의 배열을 사용한다.\n",
    "\n",
    "- dk_entries : 삽입된 딕셔너리에 대한 엔트리(PyDictKeyEntry type)를 지니고 있다. 입력되는 딕셔너리를 이 배열에 입력 순서대로 추가함으로써 그 순서가 유지된다. \n",
    "- dk_indices : dk_entries 배열의 인덱스를 가진다. 해시 테이블처럼 동작한다.\n",
    "\n",
    "키가 해시되면, dk_indices에 저장된 인덱스 중 하나를 가리키고, dk_entries로부터 매핑된 엔트리를 불러온다. dk_indices에는 오로지 인덱스만이 저장되어 있기 때문에, 그 크기는 딕셔너리의 전체 사이즈를 따른다. \n",
    "\n",
    "(정확하게 해당 이슈에 대해 이해가 잘 안돼서 스터디 자리에서 함께 이야기해보고자 합니다.)"
   ]
  },
  {
   "cell_type": "markdown",
   "metadata": {},
   "source": [
    "### 4-7 UserDict, UserList, UserString"
   ]
  },
  {
   "cell_type": "markdown",
   "metadata": {},
   "source": [
    "#### UserDict\n",
    "- 딕셔너리 객체의 wrapper 역할을 수행하는 클래스\n",
    "- dict보다는 UserDict를 상속해서 매핑형을 만드는 것이 쉽다. \n",
    "\n",
    "#### UserList와 UserString도 비슷한 역할을 한다.\n"
   ]
  },
  {
   "cell_type": "code",
   "execution_count": 91,
   "metadata": {},
   "outputs": [],
   "source": [
    "# 삽입, 갱신, 조회할 때, 비 문자열 키를 항상 문자열로 변환하는 함수 (일반 Dict 버전)\n",
    "class strKeyDict0(dict):\n",
    "    \n",
    "    # 존재하지 않는 키를 처리하는 메서드\n",
    "    # 기본 dict 클래스에는 정의되어 있지 않으나, dict 클래스를 상속하여 정의할 수 있다.\n",
    "    def __missing__(self, key):\n",
    "        if isinstance(key, str):\n",
    "            raise KeyError(key)\n",
    "        # isinstance()로 검사하지 않으면, str(key)가 없는 경우, 무한 루프에 빠진다.\n",
    "        return self[str(key)]\n",
    "    \n",
    "    def get(self, key, default=None):\n",
    "        try:\n",
    "            return self[key]\n",
    "        except KeyError:\n",
    "            return default\n",
    "    \n",
    "    # k in d 연산을 수행하면 __contains__() 메서드가 호출된다.\n",
    "    # 그러나 dict에서 상속받게 되면, dict의 기본 __contains__() 메서드는\n",
    "    # 우리가 __missing__() 메서드를 호출하지 않기 때문에\n",
    "    # __contains__() 메서드도 정의해주어야 한다.\n",
    "    def __contains__(self, key):\n",
    "        return key in self.keys() or str(key) in self.keys()"
   ]
  },
  {
   "cell_type": "code",
   "execution_count": 92,
   "metadata": {},
   "outputs": [
    {
     "name": "stdout",
     "output_type": "stream",
     "text": [
      "['__class__', '__contains__', '__delattr__', '__delitem__', '__dict__', '__dir__', '__doc__', '__eq__', '__format__', '__ge__', '__getattribute__', '__getitem__', '__gt__', '__hash__', '__init__', '__init_subclass__', '__iter__', '__le__', '__len__', '__lt__', '__missing__', '__module__', '__ne__', '__new__', '__reduce__', '__reduce_ex__', '__repr__', '__setattr__', '__setitem__', '__sizeof__', '__str__', '__subclasshook__', '__weakref__', 'clear', 'copy', 'fromkeys', 'get', 'items', 'keys', 'pop', 'popitem', 'setdefault', 'update', 'values']\n",
      "\n",
      "two\n",
      "\n",
      "four\n",
      "\n",
      "\n",
      "False\n",
      "\n",
      "True\n",
      "\n",
      "two\n",
      "\n",
      "four\n"
     ]
    }
   ],
   "source": [
    "d = strKeyDict0([('2', 'two'), ('4', 'four')])\n",
    "print(dir(d))\n",
    "print()\n",
    "print(d['2'])\n",
    "print()\n",
    "print(d[4]) # integer를 넣어도 값을 잘 가져옴.\n",
    "print()\n",
    "#print(d[1]) # KeyError\n",
    "print()\n",
    "print(1 in d)\n",
    "print()\n",
    "print(2 in d)\n",
    "print()\n",
    "print(d.get('2'))\n",
    "print()\n",
    "print(d.get(4)) # Get을 오버라이딩 하지 않으면 None 값이 뜸."
   ]
  },
  {
   "cell_type": "code",
   "execution_count": 69,
   "metadata": {},
   "outputs": [],
   "source": [
    "# 삽입, 갱신, 조회할 때, 비 문자열 키를 항상 문자열로 변환하는 함수 (UserDict 버전)\n",
    "import collections\n",
    "class strKeyDict(collections.UserDict):\n",
    "    \n",
    "    # 존재하지 않는 키를 처리하는 메서드\n",
    "    # 위처럼 dict를 상속해 처리하는 것도 가능하나, 본 예제처럼 UserDict를 상속하여\n",
    "    # 정의하는 것이 훨씬 낫다.\n",
    "    # 내장형에서는 아무런 문제 없이 상속할 수 있는 메서드들을 직접 오버라이드해야 하는 \n",
    "    # 구현의 특성 때문에 UserDict를 상속하는 편이 낫다. \n",
    "    def __missing__(self, key):\n",
    "        if isinstance(key, str):\n",
    "            raise KeyError(key)\n",
    "        return self[str(key)]\n",
    "    \n",
    "    # 저장된 키가 모두 str 형이므로, self.data를 통해 바로 조회할 수 있다.\n",
    "    def __contains__(self, key):\n",
    "        return str(key) in self.data\n",
    "    \n",
    "    def __setitem__(self, key, item):\n",
    "        self.data[str(key)] = item"
   ]
  },
  {
   "cell_type": "code",
   "execution_count": 80,
   "metadata": {},
   "outputs": [
    {
     "name": "stdout",
     "output_type": "stream",
     "text": [
      "['_MutableMapping__marker', '__abstractmethods__', '__class__', '__contains__', '__copy__', '__delattr__', '__delitem__', '__dict__', '__dir__', '__doc__', '__eq__', '__format__', '__ge__', '__getattribute__', '__getitem__', '__gt__', '__hash__', '__init__', '__init_subclass__', '__iter__', '__le__', '__len__', '__lt__', '__missing__', '__module__', '__ne__', '__new__', '__reduce__', '__reduce_ex__', '__repr__', '__reversed__', '__setattr__', '__setitem__', '__sizeof__', '__slots__', '__str__', '__subclasshook__', '__weakref__', '_abc_impl', 'clear', 'copy', 'data', 'fromkeys', 'get', 'items', 'keys', 'pop', 'popitem', 'setdefault', 'update', 'values']\n",
      "\n",
      "two\n",
      "\n",
      "four\n",
      "\n",
      "\n",
      "False\n",
      "\n",
      "True\n",
      "\n",
      "two\n"
     ]
    }
   ],
   "source": [
    "d = strKeyDict([('2', 'two'), ('4', 'four')])\n",
    "print(dir(d))\n",
    "print()\n",
    "print(d['2'])\n",
    "print()\n",
    "print(d[4]) # integer를 넣어도 값을 잘 가져옴.\n",
    "print()\n",
    "#print(d[1]) # KeyError\n",
    "print()\n",
    "print(1 in d)\n",
    "print()\n",
    "print(2 in d)\n",
    "print()\n",
    "print(d.get('2'))\n",
    "print(d.get)"
   ]
  },
  {
   "cell_type": "markdown",
   "metadata": {},
   "source": [
    "## 5. heapq"
   ]
  },
  {
   "cell_type": "markdown",
   "metadata": {},
   "source": [
    "- heapq 모듈은 우선 순위 큐 알고리즘이라고도 하며, heapq 알고리즘의 구현을 제공한다.\n",
    "- 힙은 모든 부모 노드가 자식 노드보다 작거나 같은 값을 가지는 이진 트리이다. \n",
    "- 여기서 가장 흥미로운 특성은 가장 작은 요소가 항상 root인 heap[0] 라는 것"
   ]
  },
  {
   "cell_type": "markdown",
   "metadata": {},
   "source": [
    "#### 정렬된 여러 시퀀스를 병합하여 순환하고 싶을 때 사용할 수 있다.\n",
    "- heapq.merge()는 아이템에 순환적으로 접근하며, 제공한 시퀀스를 한꺼번에 읽지 않는다. 따라서 아주 긴 시퀀스도 별다른 무리 없이 순환할 수 있다.\n",
    "- heapq.merge()에 넣는 시퀀스는 모두 정렬되어 있어야 한다. 또한 데이터가 정렬되어 있는지 확인하지 않는다. "
   ]
  },
  {
   "cell_type": "code",
   "execution_count": 25,
   "metadata": {},
   "outputs": [
    {
     "name": "stdout",
     "output_type": "stream",
     "text": [
      "1 2 4 5 6 7 10 11 \n",
      "5 6 2 7 4 10 1 11 \n"
     ]
    }
   ],
   "source": [
    "import heapq\n",
    "\n",
    "a = [1, 4, 7, 10]\n",
    "b = [2, 5, 6, 11]\n",
    "for c in heapq.merge(a, b):\n",
    "    print(c, end = ' ')\n",
    "print()\n",
    "\n",
    "# 정렬이 되어 있지 않은 경우에는 어떠한 경고도 없이 이상한 결과를 출력한다.\n",
    "e = [7, 4, 10, 1]\n",
    "f = [5, 6, 2 ,11]\n",
    "for g in heapq.merge(e, f):\n",
    "    print(g, end = ' ')\n",
    "print()"
   ]
  },
  {
   "cell_type": "markdown",
   "metadata": {},
   "source": [
    "#### N개의 아이템의 최대 혹은 최솟값을 찾을 때 사용한다.\n",
    "- 컬렉션 내부에서 가장 크거나, 가장 작은 N개의 아이템을 찾아야 하는 경우 heapq.nlargest()와 heapq.nsmallest() 메서드를 사용할 수 있다.\n",
    "- N이 컬렉션의 전체 크기보다 작다면, 이 함수를 사용하여 해결하는 것이 더 나은 성능을 제공한다.\n"
   ]
  },
  {
   "cell_type": "code",
   "execution_count": 23,
   "metadata": {},
   "outputs": [
    {
     "name": "stdout",
     "output_type": "stream",
     "text": [
      "[42, 37, 23]\n",
      "\n",
      "[-4, 1, 2]\n",
      "\n",
      "[{'name': 'YHOO', 'shares': 45, 'price': 16.35}, {'name': 'FB', 'shares': 200, 'price': 21.09}, {'name': 'HPQ', 'shares': 35, 'price': 31.75}]\n",
      "\n",
      "[{'name': 'AAPL', 'shares': 50, 'price': 543.22}, {'name': 'ACME', 'shares': 75, 'price': 115.65}, {'name': 'IBM', 'shares': 100, 'price': 91.1}]\n"
     ]
    }
   ],
   "source": [
    "import heapq\n",
    "\n",
    "nums = [1, 8, 2, 23, 7, -4, 18, 23, 42, 37, 2]\n",
    "print(heapq.nlargest(3, nums))\n",
    "print()\n",
    "print(heapq.nsmallest(3, nums))\n",
    "print()\n",
    "portfolio = [\n",
    "    {'name': 'IBM', 'shares': 100, 'price': 91.1},\n",
    "    {'name': 'AAPL', 'shares': 50, 'price': 543.22},\n",
    "    {'name': 'FB', 'shares': 200, 'price': 21.09},\n",
    "    {'name': 'HPQ', 'shares': 35, 'price': 31.75},\n",
    "    {'name': 'YHOO', 'shares': 45, 'price': 16.35},\n",
    "    {'name': 'ACME', 'shares': 75, 'price': 115.65}\n",
    "]\n",
    "cheap = heapq.nsmallest(3, portfolio, key=lambda s: s['price'])\n",
    "expensive = heapq.nlargest(3, portfolio, key=lambda s: s['price'])\n",
    "print(cheap)\n",
    "print()\n",
    "print(expensive)"
   ]
  },
  {
   "cell_type": "code",
   "execution_count": 9,
   "metadata": {},
   "outputs": [
    {
     "name": "stdout",
     "output_type": "stream",
     "text": [
      "[1, 4, 7]\n",
      "1\n",
      "[4, 7]\n",
      "4\n",
      "[1, 3, 5, 4, 8, 7]\n"
     ]
    }
   ],
   "source": [
    "import heapq\n",
    "\n",
    "heap = []\n",
    "\n",
    "# 힙에 원소 추가하기\n",
    "heapq.heappush(heap, 4)\n",
    "heapq.heappush(heap, 1)\n",
    "heapq.heappush(heap, 7)\n",
    "\n",
    "print(heap)\n",
    "\n",
    "# heappush()과 heappop() 메서드는 O(logN)의 시간복잡도를 갖는다.\n",
    "# 이는 내부적으로 heap 형태를 유지하면서 데이터를 추가하거나 뽑기 때문이다.\n",
    "\n",
    "#힙에서 원소 삭제하기\n",
    "print(heapq.heappop(heap))\n",
    "print(heap)\n",
    "\n",
    "# 최솟값 확인하기\n",
    "print(heap[0])\n",
    "\n",
    "# 기존의 리스트를 힙으로 변환하기 O(n)\n",
    "heap = [4, 1, 7, 3, 8, 5]\n",
    "heapq.heapify(heap)\n",
    "print(heap)"
   ]
  },
  {
   "cell_type": "markdown",
   "metadata": {},
   "source": [
    "## 6. copy"
   ]
  },
  {
   "cell_type": "markdown",
   "metadata": {},
   "source": [
    "### 6-1 얕은 복사"
   ]
  },
  {
   "cell_type": "code",
   "execution_count": 55,
   "metadata": {},
   "outputs": [
    {
     "name": "stdout",
     "output_type": "stream",
     "text": [
      "id(a) :  4608896128\n",
      "id(b) :  4600832160\n",
      "a == b :  True\n",
      "a is b :  False\n",
      "a:  [1, 2, 3]\n",
      "b:  [5, 2, 3]\n"
     ]
    }
   ],
   "source": [
    "# list를 가지고 예를 들어보기\n",
    "a = [1,2,3]\n",
    "b = a[:] \n",
    "\n",
    "print(\"id(a) : \", id(a))\n",
    "print(\"id(b) : \", id(b))\n",
    "\n",
    "print(\"a == b : \", a == b)\n",
    "print(\"a is b : \", a is b)\n",
    "\n",
    "b[0] = 5\n",
    "\n",
    "print(\"a: \", a) # b가 달라진다고 해서 a가 달라지는 것은 아님.\n",
    "print(\"b: \", b)"
   ]
  },
  {
   "cell_type": "code",
   "execution_count": 59,
   "metadata": {},
   "outputs": [
    {
     "name": "stdout",
     "output_type": "stream",
     "text": [
      "id(a) :  4586968560\n",
      "id(b) :  4609258752\n",
      "id(a[0]) :  4614073312\n",
      "id(b[0]) :  4614073312\n",
      "a is b :  False\n",
      "a[0] is b[0] :  True\n"
     ]
    }
   ],
   "source": [
    "# 문제는 mutable 객체 내에 mutable 객체가 있는 경우에 발생.\n",
    "a = [[1,2], [3,4]]\n",
    "b = a[:]\n",
    "\n",
    "print(\"id(a) : \", id(a))\n",
    "print(\"id(b) : \", id(b))\n",
    "\n",
    "print(\"id(a[0]) : \", id(a[0]))\n",
    "print(\"id(b[0]) : \", id(b[0]))\n",
    "\n",
    "print(\"a is b : \", a is b)\n",
    "print(\"a[0] is b[0] : \", a[0] is b[0]) # 겉은 다르지만, 속은 같다!"
   ]
  },
  {
   "cell_type": "code",
   "execution_count": 62,
   "metadata": {},
   "outputs": [
    {
     "name": "stdout",
     "output_type": "stream",
     "text": [
      "a :  [[8, 9], [3, 4]]\n",
      "b :  [[1, 2], [3, 4]]\n",
      "id(a[0]) :  4598125184\n",
      "id(b[0]) :  4614073312\n",
      "a[0] is b[0] :  False\n"
     ]
    }
   ],
   "source": [
    "# 재할당하는 경우에는 메모리 주소가 변경되므로 문제가 없음\n",
    "a[0] = [8,9]\n",
    "print(\"a : \", a)\n",
    "print(\"b : \", b)\n",
    "print(\"id(a[0]) : \", id(a[0]))\n",
    "print(\"id(b[0]) : \", id(b[0]))\n",
    "print(\"a[0] is b[0] : \", a[0] is b[0]) # a[0]을 재할당하여 메모리 주소도 달라짐."
   ]
  },
  {
   "cell_type": "code",
   "execution_count": 63,
   "metadata": {},
   "outputs": [
    {
     "name": "stdout",
     "output_type": "stream",
     "text": [
      "a :  [[8, 9], [3, 4, 5]]\n",
      "b :  [[1, 2], [3, 4, 5]]\n",
      "id(a[1]) :  4591164064\n",
      "id(b[1]) :  4591164064\n",
      "a[1] is b[1] :  True\n"
     ]
    }
   ],
   "source": [
    "# 그러나 a[1]의 값을 \"변경\"하면 문제가 발생. b[1]도 함께 변경됨\n",
    "a[1].append(5)\n",
    "print(\"a : \", a)\n",
    "print(\"b : \", b)\n",
    "print(\"id(a[1]) : \", id(a[1]))\n",
    "print(\"id(b[1]) : \", id(b[1]))\n",
    "print(\"a[1] is b[1] : \", a[1] is b[1]) # a[1]의 값을 변경하면 b[1]도 함께 변경됨."
   ]
  },
  {
   "cell_type": "code",
   "execution_count": 64,
   "metadata": {},
   "outputs": [
    {
     "name": "stdout",
     "output_type": "stream",
     "text": [
      "a :  [[1, 2], [3, 4, 5]]\n",
      "b :  [[1, 2], [3, 4, 5]]\n"
     ]
    }
   ],
   "source": [
    "# copy 모듈의 얕은 복사 메서드인 copy()도 같은 상황이 발생함\n",
    "import copy\n",
    "a = [[1,2], [3,4]]\n",
    "b = copy.copy(a)\n",
    "a[1].append(5)\n",
    "print(\"a : \", a)\n",
    "print(\"b : \", b)"
   ]
  },
  {
   "cell_type": "code",
   "execution_count": null,
   "metadata": {},
   "outputs": [],
   "source": [
    "# 이러한 상황을 해결하기 위해서 깊은 복사가 필요함"
   ]
  },
  {
   "cell_type": "markdown",
   "metadata": {},
   "source": [
    "### 6-2 깊은 복사"
   ]
  },
  {
   "cell_type": "code",
   "execution_count": 65,
   "metadata": {},
   "outputs": [
    {
     "name": "stdout",
     "output_type": "stream",
     "text": [
      "a :  [[1, 2], [3, 4, 5]]\n",
      "b :  [[1, 2], [3, 4]]\n"
     ]
    }
   ],
   "source": [
    "a = [[1,2], [3,4]]\n",
    "b = copy.deepcopy(a) # 내부의 객체까지 모두 새롭게 copy되는 방식.\n",
    "a[1].append(5)\n",
    "print(\"a : \", a)\n",
    "print(\"b : \", b)"
   ]
  },
  {
   "cell_type": "markdown",
   "metadata": {},
   "source": [
    "## 7. pprint"
   ]
  },
  {
   "cell_type": "markdown",
   "metadata": {},
   "source": [
    "### 7-1 리스트를 간결하게 출력해보기"
   ]
  },
  {
   "cell_type": "code",
   "execution_count": 6,
   "metadata": {},
   "outputs": [
    {
     "name": "stdout",
     "output_type": "stream",
     "text": [
      "[[1, 2, 3], [4, 5], [6, 7, 8, 9]]\n",
      "\n",
      "[1, 2, 3] [4, 5] [6, 7, 8, 9]\n",
      "\n",
      "[[1, 2, 3], [4, 5], [6, 7, 8, 9]]\n",
      "\n",
      "[[1, 2, 3],\n",
      " [4, 5],\n",
      " [6, 7, 8, 9]]\n",
      "\n",
      "[   [1, 2, 3],\n",
      "    [4, 5],\n",
      "    [6, 7, 8, 9]]\n",
      "\n",
      "[   [1, 2, 3],\n",
      "    [4, 5],\n",
      "    [6, 7, 8, 9]]\n"
     ]
    }
   ],
   "source": [
    "numbers = [[1, 2, 3], [4, 5], [6, 7, 8, 9]]\n",
    "print(numbers)\n",
    "print()\n",
    "print(*numbers)\n",
    "\n",
    "from pprint import pprint, PrettyPrinter\n",
    "print()\n",
    "\n",
    "# 일반 출력(자동으로 줄바꿈이 이루어짐)\n",
    "pprint(numbers)\n",
    "print()\n",
    "\n",
    "# 간격 설정 추가\n",
    "pprint(numbers, width=20)\n",
    "print()\n",
    "\n",
    "# 들여쓰기 설정 추가\n",
    "pprint(numbers, width=20, indent=4)\n",
    "print()\n",
    "\n",
    "# PrettyPrinter 객체를 생성해서 쓰기\n",
    "pp = PrettyPrinter(width=20, indent=4)\n",
    "pp.pprint(numbers)"
   ]
  },
  {
   "cell_type": "markdown",
   "metadata": {},
   "source": [
    "### 7-2 딕셔너리를 간결하게 출력해보기"
   ]
  },
  {
   "cell_type": "code",
   "execution_count": 5,
   "metadata": {},
   "outputs": [
    {
     "name": "stdout",
     "output_type": "stream",
     "text": [
      "{'name': 'oh', 'age': 26, 'addr': 'dongjakgu'}\n",
      "\n",
      "name age addr\n",
      "\n",
      "['name', 'age', 'addr']\n",
      "\n",
      "[('name', 'oh'), ('age', 26), ('addr', 'dongjakgu')]\n",
      "\n",
      "('name', 'oh') ('age', 26) ('addr', 'dongjakgu')\n",
      "\n",
      "{'addr': 'dongjakgu', 'age': 26, 'name': 'oh'}\n",
      "\n",
      "{'addr': 'dongjakgu',\n",
      " 'age': 26,\n",
      " 'name': 'oh'}\n",
      "\n",
      "{   'addr': 'dongjakgu',\n",
      "    'age': 26,\n",
      "    'name': 'oh'}\n"
     ]
    }
   ],
   "source": [
    "from pprint import pprint\n",
    "\n",
    "info = {\"name\":'oh', \"age\":26, \"addr\":'dongjakgu'}\n",
    "print(info)\n",
    "print()\n",
    "\n",
    "print(*info)\n",
    "print()\n",
    "\n",
    "print([k for k in info])\n",
    "print()\n",
    "\n",
    "print([(k, info[k]) for k in info])\n",
    "print()\n",
    "\n",
    "print(*[(k, info[k]) for k in info])\n",
    "print()\n",
    "\n",
    "# 일반 출력\n",
    "pprint(info)\n",
    "print()\n",
    "\n",
    "# 간격 설정 추가\n",
    "pprint(info, width=20)\n",
    "print()\n",
    "\n",
    "# 들여쓰기 설정 추가\n",
    "pprint(info, width=20, indent=4)"
   ]
  },
  {
   "cell_type": "markdown",
   "metadata": {},
   "source": [
    "## 참고\n",
    "* [Closure-1](http://schoolofweb.net/blog/posts/%ED%8C%8C%EC%9D%B4%EC%8D%AC-%ED%81%B4%EB%A1%9C%EC%A0%80-closure/)\n",
    "* [Closure-2](https://shoark7.github.io/programming/python/closure-in-python)\n",
    "* [ChainMap](https://riptutorial.com/ko/python/example/30550/컬렉션--chainmap)\n",
    "* [UserDict](https://books.google.co.kr/books?id=NJpIDwAAQBAJ&pg=PA124&lpg=PA124&dq=userdict&source=bl&ots=el-ThKLKWt&sig=ACfU3U05dlBwlFk2YUY73s8F78JlR0pexQ&hl=ko&sa=X&ved=2ahUKEwjAyv6X3M3pAhVVJaYKHQ3UD8M4ChDoATAGegQICBAB#v=onepage&q=userdict&f=false)\n",
    "* [Python Cookbook](https://www.google.com/url?sa=t&rct=j&q=&esrc=s&source=web&cd=&ved=2ahUKEwj-sbTx683pAhVNFqYKHYMxBgAQFjAAegQIAxAB&url=https%3A%2F%2Fwww.amazon.com%2FPython-Cookbook-Third-David-Beazley%2Fdp%2F1449340377&usg=AOvVaw3sPntbcfHMFU_LS4nBnlje)\n",
    "* [Partial](http://www.incodom.kr/%ED%8C%8C%EC%9D%B4%EC%8D%AC/%ED%95%A8%EC%88%98)"
   ]
  }
 ],
 "metadata": {
  "kernelspec": {
   "display_name": "Python 3",
   "language": "python",
   "name": "python3"
  },
  "language_info": {
   "codemirror_mode": {
    "name": "ipython",
    "version": 3
   },
   "file_extension": ".py",
   "mimetype": "text/x-python",
   "name": "python",
   "nbconvert_exporter": "python",
   "pygments_lexer": "ipython3",
   "version": "3.7.6"
  }
 },
 "nbformat": 4,
 "nbformat_minor": 4
}

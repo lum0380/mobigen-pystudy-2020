{
 "cells": [
  {
   "cell_type": "markdown",
   "metadata": {
    "colab_type": "text",
    "id": "8Axn8SfWLQss"
   },
   "source": [
    "# Logging\n",
    "\n",
    "로그 레벨은 아래와 같이 5개가 있다."
   ]
  },
  {
   "cell_type": "code",
   "execution_count": 1,
   "metadata": {
    "colab": {
     "base_uri": "https://localhost:8080/",
     "height": 71
    },
    "colab_type": "code",
    "id": "lcIG-lMfKS3H",
    "outputId": "fa079017-8bb4-4b03-eb39-da3135eb11a1",
    "scrolled": true
   },
   "outputs": [
    {
     "name": "stderr",
     "output_type": "stream",
     "text": [
      "WARNING:root:This is a warning message\n",
      "ERROR:root:This is an error message\n",
      "CRITICAL:root:This is a critical message\n"
     ]
    }
   ],
   "source": [
    "import logging\n",
    "\n",
    "logging.debug('This is a debug message')\n",
    "logging.info('This is an info message')\n",
    "logging.warning('This is a warning message')\n",
    "logging.error('This is an error message')\n",
    "logging.critical('This is a critical message')"
   ]
  },
  {
   "cell_type": "markdown",
   "metadata": {
    "colab_type": "text",
    "id": "8IbTGaFCKpDq"
   },
   "source": [
    "기본적으로 WARNING 레벨 이상이 로그로 남게 되어 있다. 이에 대해서는 로그 레벨을 조정해 주면 됩니다."
   ]
  },
  {
   "cell_type": "markdown",
   "metadata": {
    "colab_type": "text",
    "id": "2xOQMiUBL2ML"
   },
   "source": [
    "A. basicConfig\n",
    "\n",
    "1) basicConfig 함수를 이용하여 filename, level, filemode(a=append, w=기존의 내용을 삭제하고 새로작성), format\n",
    "여러 설정을 한꺼번에 할 수 있습니다. \n",
    "\n",
    "2) basicConfig 함수를 사용하면 파이썬의 기본 root 로거를 사용한다."
   ]
  },
  {
   "cell_type": "code",
   "execution_count": 1,
   "metadata": {
    "colab": {
     "base_uri": "https://localhost:8080/",
     "height": 35
    },
    "colab_type": "code",
    "id": "o6ueTT-_LyJE",
    "outputId": "c0eae2d6-24df-490e-d911-d3e2544d4f23"
   },
   "outputs": [],
   "source": [
    "import logging\n",
    "\n",
    "logging.basicConfig(filename='app.log', level=logging.DEBUG, filemode='w', format='%(name)s - %(levelname)s - %(message)s')\n",
    "logging.debug('This will get logged to a file')"
   ]
  },
  {
   "cell_type": "markdown",
   "metadata": {
    "colab_type": "text",
    "id": "bNdqeCn2NIH1"
   },
   "source": [
    "B. 세부 설명\n",
    "\n",
    "1) Logger: 로깅 클래스\n",
    "\n",
    "2) LogRecord: Loggers(로깅 클래스)는 LogRecord 객체를 자동적으로 생성하고 \n",
    "              LogRecord는 로그에 관련된 모든 정보를 가지고 있습니다. (라인넘버, 함수 등) \n",
    "\n",
    "3) Handler: 핸들러는 로그레코드를 로그가 저장되는 장소로 보냅니다.\n",
    "            종류에는  StreamHandler, FileHandler, SMTPHandler, HTTPHandler 등이 있습니다.\n",
    "\n",
    "4) Formatter: 포맷터는 로그를 남기는 형식을 지정할 수 있습니다."
   ]
  },
  {
   "cell_type": "code",
   "execution_count": 3,
   "metadata": {
    "colab": {
     "base_uri": "https://localhost:8080/",
     "height": 35
    },
    "colab_type": "code",
    "id": "nvs7sSfIOet_",
    "outputId": "52b8596c-d137-4925-a7b6-38e552aef5f0"
   },
   "outputs": [],
   "source": [
    "import logging\n",
    "\n",
    "logger = logging.getLogger('example_logger')\n",
    "logger.warning('This is a warning')"
   ]
  },
  {
   "cell_type": "markdown",
   "metadata": {
    "colab_type": "text",
    "id": "bmbjuA3EUJnv"
   },
   "source": [
    "위와 같이 커스텀 로거 example_logger를 생성하면 파이썬의 root 로거에 있는 기본 포맷터와 basicConfig를 사용할 수 없고, 따로 formatter와 handler를 정의해야 합니다. \n",
    "커스텀 로그 사용시 아래와 같이 \"__name__\" 파라미터를 getLogger() 로 보내는 것이 좋다고 합니다.  \"__name__\" 는 built-in 파이썬 변수로 현재 모듈의 이름을 저장하고 있습니다. "
   ]
  },
  {
   "cell_type": "code",
   "execution_count": 1,
   "metadata": {
    "colab": {},
    "colab_type": "code",
    "id": "eCu5Ky-MUJnw",
    "outputId": "edd98af8-d74b-41d1-cc07-da2bd352d3f4"
   },
   "outputs": [
    {
     "name": "stderr",
     "output_type": "stream",
     "text": [
      "__main__ - WARNING - This is a warning\n",
      "__main__ - ERROR - This is an error\n"
     ]
    }
   ],
   "source": [
    "import logging\n",
    "\n",
    "# Create a custom logger\n",
    "logger = logging.getLogger(__name__)\n",
    "\n",
    "# Create handlers\n",
    "c_handler = logging.StreamHandler()\n",
    "f_handler = logging.FileHandler('file.log')\n",
    "c_handler.setLevel(logging.WARNING)\n",
    "f_handler.setLevel(logging.ERROR)\n",
    "\n",
    "# Create formatters and add it to handlers\n",
    "c_format = logging.Formatter('%(name)s - %(levelname)s - %(message)s')\n",
    "f_format = logging.Formatter('%(asctime)s - %(name)s - %(levelname)s - %(message)s')\n",
    "c_handler.setFormatter(c_format)\n",
    "f_handler.setFormatter(f_format)\n",
    "\n",
    "# Add handlers to the logger\n",
    "logger.addHandler(c_handler)\n",
    "logger.addHandler(f_handler)\n",
    "\n",
    "logger.warning('This is a warning')\n",
    "logger.error('This is an error')"
   ]
  },
  {
   "cell_type": "markdown",
   "metadata": {
    "colab_type": "text",
    "id": "vzghPtBPUJn1"
   },
   "source": [
    "위와 같이 각각의 핸들러마다 다른 포맷과 저장장소, 로그 레벨을 줄 수 있습니다.\n",
    "logger.warning(), logger.error() 은 로그 정보를 가진 LogRecord를 생성해서 c_handler와 f_handler로 보냅니다. \n",
    "c_handler는 StreamHandler로 WARNING 레벨이며 콘솔에 로그를 프린트합니다.\n",
    "f_handler는 FileHandler로 ERROR 레벨이상만을 파일로 로그를 프린트 하고 ERROR 레벨 밑의 WARNING 등의 로그는 무시합니다."
   ]
  },
  {
   "cell_type": "markdown",
   "metadata": {
    "colab_type": "text",
    "id": "SVqE-bVpVQLZ"
   },
   "source": [
    "C. 파일을 rotate 형식으로 할 경우\n",
    "\n",
    "아래와 같이 logging, logging.handlers를 import 하여 RotatingFileHandler 를 이용하여 \n",
    "해당 로그를 생성할 경로, 파일사이즈, 생성 파일 개수를 조정할 수 있습니다."
   ]
  },
  {
   "cell_type": "code",
   "execution_count": 0,
   "metadata": {
    "colab": {},
    "colab_type": "code",
    "id": "GcO00svWWRcK"
   },
   "outputs": [],
   "source": [
    "import logging\n",
    "import logging.handlers as handlers\n",
    "\n",
    "LOG = logging.getLogger(__name__)\n",
    "logHandler = handlers.RotatingFileHandler(\"test.log\",maxBytes=5000000, backupCount=5)\n",
    "logHandler.setLevel(logging.INFO)\n",
    "formatter = logging.Formatter('%(asctime)s -%(name)s - %(levelname)s - %(message)s')\n",
    "logHandler.setFormatter(formatter)\n",
    "LOG.addHandler(logHandler)  \n",
    "LOG.setLevel(logging.INFO)  \n",
    "LOG.info(\"---------------start--------------------\")"
   ]
  },
  {
   "cell_type": "markdown",
   "metadata": {
    "colab_type": "text",
    "id": "1HjY6ywPWrFt"
   },
   "source": [
    "D. logging config 파일\n",
    "1) config - xml 파일로 만드는 경우"
   ]
  },
  {
   "cell_type": "code",
   "execution_count": 0,
   "metadata": {
    "colab": {},
    "colab_type": "code",
    "id": "ahAaJv0JW02L"
   },
   "outputs": [],
   "source": [
    "[loggers]\n",
    "keys=root,sampleLogger\n",
    "\n",
    "[handlers]\n",
    "keys=consoleHandler\n",
    "\n",
    "[formatters]\n",
    "keys=sampleFormatter\n",
    "\n",
    "[logger_root]\n",
    "level=DEBUG\n",
    "handlers=consoleHandler\n",
    "\n",
    "[logger_sampleLogger]\n",
    "level=DEBUG\n",
    "handlers=consoleHandler\n",
    "qualname=sampleLogger\n",
    "propagate=0\n",
    "\n",
    "[handler_consoleHandler]\n",
    "class=StreamHandler\n",
    "level=DEBUG\n",
    "formatter=sampleFormatter\n",
    "args=(sys.stdout,)\n",
    "\n",
    "[formatter_sampleFormatter]\n",
    "format=%(asctime)s - %(name)s - %(levelname)s - %(message)s"
   ]
  },
  {
   "cell_type": "code",
   "execution_count": 0,
   "metadata": {
    "colab": {},
    "colab_type": "code",
    "id": "B-Yh2sRvW4sK"
   },
   "outputs": [],
   "source": [
    "import logging\n",
    "import logging.config\n",
    "\n",
    "logging.config.fileConfig(fname='file.conf', disable_existing_loggers=False)\n",
    "\n",
    "# Get the logger specified in the file\n",
    "logger = logging.getLogger(__name__)\n",
    "\n",
    "logger.debug('This is a debug message')"
   ]
  },
  {
   "cell_type": "code",
   "execution_count": null,
   "metadata": {},
   "outputs": [],
   "source": [
    "위와 같이 file.conf 설정 파일을 만들어 로깅 설정을 할 수도 있습니다. \n",
    "1) disable_existing_loggers \n",
    "False로 지정되면, 이 호출이 이루어졌을 때 존재하는 로거는 활성화된 상태로 남습니다.\n",
    "기본값은 True"
   ]
  },
  {
   "cell_type": "markdown",
   "metadata": {
    "colab_type": "text",
    "id": "jqBhU0sEXDFV"
   },
   "source": [
    "2) config-yaml인 경우"
   ]
  },
  {
   "cell_type": "code",
   "execution_count": 0,
   "metadata": {
    "colab": {},
    "colab_type": "code",
    "id": "O9q2vUYsXGHE"
   },
   "outputs": [],
   "source": [
    "formatters:\n",
    "  simple:\n",
    "    format: '%(asctime)s - %(name)s - %(levelname)s - %(message)s'\n",
    "handlers:\n",
    "  console:\n",
    "    class: logging.StreamHandler\n",
    "    level: DEBUG\n",
    "    formatter: simple\n",
    "    stream: ext://sys.stdout\n",
    "loggers:\n",
    "  sampleLogger:\n",
    "    level: DEBUG\n",
    "    handlers: [console]\n",
    "    propagate: no\n",
    "root:\n",
    "  level: DEBUG\n",
    "  handlers: [console]"
   ]
  },
  {
   "cell_type": "code",
   "execution_count": 0,
   "metadata": {
    "colab": {},
    "colab_type": "code",
    "id": "Sz6mqXHDXKIa"
   },
   "outputs": [],
   "source": [
    "import logging\n",
    "import logging.config\n",
    "import yaml\n",
    "\n",
    "with open('config.yaml', 'r') as f:\n",
    "    config = yaml.safe_load(f.read())\n",
    "    logging.config.dictConfig(config)\n",
    "\n",
    "logger = logging.getLogger(__name__)\n",
    "\n",
    "logger.debug('This is a debug message')"
   ]
  }
 ],
 "metadata": {
  "colab": {
   "collapsed_sections": [],
   "name": "python_logging.ipynb",
   "provenance": []
  },
  "kernelspec": {
   "display_name": "Python 3",
   "language": "python",
   "name": "python3"
  },
  "language_info": {
   "codemirror_mode": {
    "name": "ipython",
    "version": 3
   },
   "file_extension": ".py",
   "mimetype": "text/x-python",
   "name": "python",
   "nbconvert_exporter": "python",
   "pygments_lexer": "ipython3",
   "version": "3.6.4"
  }
 },
 "nbformat": 4,
 "nbformat_minor": 1
}

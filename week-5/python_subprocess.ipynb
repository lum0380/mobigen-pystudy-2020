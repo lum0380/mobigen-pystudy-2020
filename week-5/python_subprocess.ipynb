{
 "cells": [
  {
   "cell_type": "markdown",
   "metadata": {
    "colab": {},
    "colab_type": "code",
    "id": "zz0TqoEJYKwy"
   },
   "source": [
    "# subprocess\n",
    "1) 새로운 프로세스를 생성해서 input/output/error 파이프로 접근하게 해주고, 리턴 값을 받을 수 있게 해줍니다.\n",
    "\n",
    "2) subprocess 모듈은 파이썬에서 쉘 명령을 실행할 수 있게 해주는 라이브러리입니다.\n",
    "   os 모듈의 os.system을 통해서도 실행 가능하지만 subprocess 모듈을 통해 좀 더 많은 기능을 이용할 수 있습니다."
   ]
  },
  {
   "cell_type": "markdown",
   "metadata": {},
   "source": [
    "A. call 함수\n",
    "단순한 서브프로세스 실행만을 원한다면 call 함수를 사용합니다.\n",
    "call 함수 사용시 실행된 서브프로세스가 종료되기 기다렸다가 종료되면 결과값을 화면에 출력해줍니다.\n",
    "다음은 call 함수에 사용되는 옵션들입니다."
   ]
  },
  {
   "cell_type": "code",
   "execution_count": null,
   "metadata": {},
   "outputs": [],
   "source": [
    "subprocess.call(args, *, stdin=None, stdout=None, stderr=None, shell=False)"
   ]
  },
  {
   "cell_type": "code",
   "execution_count": 1,
   "metadata": {},
   "outputs": [
    {
     "data": {
      "text/plain": [
       "0"
      ]
     },
     "execution_count": 1,
     "metadata": {},
     "output_type": "execute_result"
    }
   ],
   "source": [
    "import subprocess\n",
    "subprocess.call([\"ipconfig\"])"
   ]
  },
  {
   "cell_type": "markdown",
   "metadata": {},
   "source": [
    "B. Popen \n",
    "subprocess 모듈에서 사용되는 대부분의 함수 실행에 실질적으로 관여하는 함수이며,\n",
    "다양한 옵션들을 통해 call 보다 유연하게 사용할 수 있다."
   ]
  },
  {
   "cell_type": "code",
   "execution_count": 0,
   "metadata": {
    "colab": {},
    "colab_type": "code",
    "id": "8bKijpqTbD7Y"
   },
   "outputs": [],
   "source": [
    "import subprocess\n",
    "\n",
    "def subprocess_open(command):\n",
    "    popen = subprocess.Popen(command, stdout=subprocess.PIPE, \\\n",
    "    stderr=subprocess.PIPE, shell=True)\n",
    "    popen.\n",
    "    output,errors = popen.communicate()\n",
    "    return output,errors\n",
    "def main():\n",
    "    output, errors = subprocess_open(\"ps -aux | grep jupyter | \\\n",
    "    awk '{{print $2, $9}}'\")\n",
    "    print(output.decode('utf-8'))\n",
    "main()"
   ]
  },
  {
   "cell_type": "markdown",
   "metadata": {},
   "source": [
    "1) stdout\n",
    "자식 프로세스에서 캡처된 stdout. stdout이 캡처되지 않았으면 None\n",
    "\n",
    "2) stderr\n",
    "자식 프로세스에서 캡처된 stderr. stderr가 캡처되지 않았으면 None"
   ]
  }
 ],
 "metadata": {
  "colab": {
   "collapsed_sections": [],
   "name": "python_subprocess.ipynb",
   "provenance": []
  },
  "kernelspec": {
   "display_name": "Python 3",
   "language": "python",
   "name": "python3"
  },
  "language_info": {
   "codemirror_mode": {
    "name": "ipython",
    "version": 3
   },
   "file_extension": ".py",
   "mimetype": "text/x-python",
   "name": "python",
   "nbconvert_exporter": "python",
   "pygments_lexer": "ipython3",
   "version": "3.6.4"
  }
 },
 "nbformat": 4,
 "nbformat_minor": 1
}

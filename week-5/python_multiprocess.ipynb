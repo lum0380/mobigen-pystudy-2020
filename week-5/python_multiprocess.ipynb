{
 "cells": [
  {
   "cell_type": "markdown",
   "metadata": {},
   "source": [
    "# MultiProcessing\n",
    "\n",
    "threading 모듈과 유사한 API를 사용하여 프로세스 생성을 지원하는 패키지입니다.\n",
    "multiprocessing 패키지는 지역과 원격 동시성을 모두 제공하며 스레드 대신 서브 프로세스를 사용하여 전역 인터프리터 락(Global Interpreter Lock) 을 효과적으로 피합니다. 이것 때문에, multiprocessing 모듈은 프로그래에게 주어진 서버에서 다중 프로세서를 최대한 활용할 수 있게 합니다. 유닉스와 윈도우에서 모두 실행 가능합니다.\n"
   ]
  },
  {
   "cell_type": "markdown",
   "metadata": {},
   "source": [
    "A. 전역 인터프리터 락(Global Interpreter Lock)\n",
    "\n",
    "1) GIL 이란?\n",
    "\n",
    "여러개의 스레드가 있을때 스레드간의 동기화를 위해 사용되는 기술 중 하나입니다. \n",
    "GIL은 전역에 Lock을 두고 이 Lock을 점유해야만 코드를 실행할 수 있도록 제한합니다.\n",
    "따라서 동시에 하나 이상의 스레드가 실행되지는 않습니다. \n",
    "\n",
    "2) GIL의 장점\n",
    "\n",
    "멀티 쓰레드 프로그램에서 성능이 떨어질 수도 있지만, CPython, Ruby MRI, Lua interpreter \n",
    "등 많은 인터프리터 구현체들이 GIL을 사용하고 있습니다. 그 이유는 우선 GIL을 이용한 multi-threads를 구현하는 것이\n",
    "병렬 multi-threads를 구현하는 것보다 훨씬 쉽다는 것입니다. \n",
    "게다가 이런 병렬 multi-threads 구현체들의 문제는 싱글 쓰레드에서 오히려 더 느려진다는 것입니다. \n",
    "그래서 CPython이나 Ruby MRI에서는 GIL을 없애려는 많은 시도가 있었지만, 결국 싱글 쓰레드에서의 성능 저하를 극복하지 못하고 GIL로 돌아왔습니다. \n",
    "결국, 파이썬의 창시자인 귀도 반 로섬은 CPython에서 GIL을 없애는 대신 싱글 쓰레드에서 성능을 떨어뜨릴 구현은 받아들이지 않겠다고 \n",
    "선언하기도 했습니다.\n",
    "\n",
    "https://wiki.python.org/moin/GlobalInterpreterLock#line-31    "
   ]
  },
  {
   "cell_type": "code",
   "execution_count": null,
   "metadata": {},
   "outputs": [],
   "source": [
    "B. Process\n",
    "\n",
    "process 클래스는 process 객체를 생성합니다.\n",
    "\n",
    "1) start()\n",
    "process 생성한 후 start() 함수를 호출하여야 프로세스가 진행됩니다.\n",
    "\n",
    "2) join()\n",
    "프로세스가 진행후, join() 함수를 호출하여야 프로세스가 완료됩니다. \n",
    "join() 함수를 호출하지 않으면 수동으로 프로세스를 중지시켜야 합니다."
   ]
  },
  {
   "cell_type": "code",
   "execution_count": 1,
   "metadata": {
    "colab": {
     "base_uri": "https://localhost:8080/",
     "height": 89
    },
    "colab_type": "code",
    "id": "sWCdHB5r-VeW",
    "outputId": "ed4f858b-89c7-4f8c-ae13-0d25b0b43978"
   },
   "outputs": [],
   "source": [
    "from multiprocessing import Process\n",
    "import time\n",
    "\n",
    "def print_func(continent='Asia'):\n",
    "    print('The name of continent is : ', continent)\n",
    "\n",
    "if __name__ == \"__main__\":  \n",
    "    names = ['America', 'Europe', 'Africa']\n",
    "    procs = []\n",
    "    \n",
    "    for name in names:       \n",
    "        proc = Process(target=print_func, args=(name,))\n",
    "        procs.append(proc)\n",
    "        proc.start()\n",
    "   \n",
    "    for proc in procs:\n",
    "        proc.join()\n",
    "        print(\"hello\")\n",
    "        time.sleep(5)"
   ]
  },
  {
   "cell_type": "markdown",
   "metadata": {},
   "source": [
    "위의 예제는 names 리스트 길이 만큼 process를 생성해서 각 프로세스 마다 print_func\n",
    "함수를 호출하여 names 리스트의 값을 매개변수로 전달해 주는 것입니다. \n",
    "\n",
    "1) args\n",
    "프로세스에 매개변수를 전달하기 위해서는 args를 사용합니다. \n"
   ]
  },
  {
   "cell_type": "markdown",
   "metadata": {
    "colab_type": "text",
    "id": "QB_EgRJH-ud7"
   },
   "source": [
    "C. Queue (First-In-First-Out)\n",
    "\n",
    "Queue 클래스는 타켓 함수가 프로세스에게 데이터를 사용하도록 전달하는데 유용합니다. \n",
    "\n",
    "1) put\n",
    "데이터 입력\n",
    "\n",
    "2) get\n",
    "데이터 출력"
   ]
  },
  {
   "cell_type": "code",
   "execution_count": 3,
   "metadata": {},
   "outputs": [
    {
     "name": "stdout",
     "output_type": "stream",
     "text": [
      "Sending 10 numbers to Queue() took 0.18849492073059082 seconds\n",
      "Sending 100 numbers to Queue() took 0.16634607315063477 seconds\n",
      "Sending 1000 numbers to Queue() took 0.1740427017211914 seconds\n"
     ]
    }
   ],
   "source": [
    "from multiprocessing import Process, Queue\n",
    "import os\n",
    "\n",
    "def read_queue(queue):   \n",
    "    while True:\n",
    "        msg = queue.get()         #큐값을 읽어온다.\n",
    "        print(msg, end=\",\")\n",
    "        if (msg == 'DONE'):       #큐값의 마지막(DONE) 에 이르면 읽기를 멈춘다.          \n",
    "            print('process id:', os.getpid())\n",
    "            print('\\n')\n",
    "            break\n",
    "\n",
    "def write_queue(count, queue):   \n",
    "    for ii in range(0, count):\n",
    "        queue.put(ii)             # 큐값을 count만큼 생성해서 큐에 넣고\n",
    "    queue.put('DONE')             # 큐의 마지막에 DONE 이라는 글자를 넣는다.\n",
    "\n",
    "if __name__=='__main__':\n",
    "    queue = Queue() \n",
    "    for count in [10, 20, 30]:    # 카운터 값 리스트         \n",
    "        process = Process(target=read_queue, args=((queue),)) # 프로세스 생성하고 args에 queue를 전달  \n",
    "        \n",
    "        process.start()        #프로세스 실행      \n",
    "        write_queue(count, queue)    #queue에 값 저장 \n",
    "        process.join()         #프로세스가 완료될때까지 기다림\n",
    "                                "
   ]
  },
  {
   "cell_type": "markdown",
   "metadata": {},
   "source": [
    "1) 위의 코드는 큐를 생성해서 카운트 리스트 길이만큼 for 문을 돌면서 프로세스를 생성하고(3개)\n",
    "각 프로세스에 타켓함수로 read_queue함수를 args로 queue를 전달한다.\n",
    "\n",
    "2) 각 프로세스를 실행되고 write_queue 함수를 호출되어 리스트의 각 값과 큐를 전달해서\n",
    "큐에 값을 적재한다. 각 프로세스는 큐에서 Done이라는 글자를 읽을때까지 큐를 읽어들인다."
   ]
  },
  {
   "cell_type": "code",
   "execution_count": null,
   "metadata": {},
   "outputs": [],
   "source": [
    "아래는 Manager.dict를 이용하는 방법입니다."
   ]
  },
  {
   "cell_type": "code",
   "execution_count": null,
   "metadata": {},
   "outputs": [],
   "source": [
    "from multiprocessing import Process, Manager\n",
    "\n",
    "def f(d):\n",
    "    d[1] += '1'\n",
    "    d['2'] += 2\n",
    "\n",
    "if __name__ == '__main__':\n",
    "    manager = Manager()\n",
    "\n",
    "    d = manager.dict()\n",
    "    d[1] = '1'\n",
    "    d['2'] = 2\n",
    "\n",
    "    p1 = Process(target=f, args=(d,))\n",
    "    p2 = Process(target=f, args=(d,))\n",
    "    p1.start()\n",
    "    p2.start()\n",
    "    p1.join()\n",
    "    p2.join()\n",
    "\n",
    "    print(d)"
   ]
  },
  {
   "cell_type": "markdown",
   "metadata": {
    "colab_type": "text",
    "id": "hfuDYrW0_-Cd"
   },
   "source": [
    "D. Lock\n",
    "\n",
    "락 클래스는 락을 선언할 수 있게 하고 락 해제 전까지 다른 프로세스들이 접근하지 못하게 합니다. \n",
    "락 클래스는 락선언과 락해제로 되어 있습니다. \n",
    "락 선언시에는 acquire() 함수 사용, 락 해제시에는 release() 함수를 사용합니다."
   ]
  },
  {
   "cell_type": "code",
   "execution_count": null,
   "metadata": {
    "colab": {
     "base_uri": "https://localhost:8080/",
     "height": 377
    },
    "colab_type": "code",
    "id": "zPrNIEapGWRA",
    "outputId": "dcf84c46-ea34-4171-9a17-b8c55052f7a2"
   },
   "outputs": [],
   "source": [
    "from multiprocessing import Process, Lock  \n",
    "\n",
    "def printer(item, lock): \n",
    "    lock.acquire() \n",
    "    try: \n",
    "        print(item) \n",
    "    finally: lock.release()  \n",
    "        \n",
    "if __name__ == '__main__': \n",
    "    lock = Lock() \n",
    "    items = ['tango', 'foxtrot', 10] \n",
    "    for item in items: \n",
    "        p = Process(target=printer, args=(item, lock)) \n",
    "        p.start()\n",
    "        p.join()"
   ]
  },
  {
   "cell_type": "markdown",
   "metadata": {
    "colab_type": "text",
    "id": "qCW6Wi7eH0kn"
   },
   "source": [
    "E. Pool\n",
    "\n",
    "Pool 클래스는 멀티 입력값을 가지고 데이터를 프로세스 사이에 분배시키는 병렬 실행시에 사용가능합니다. "
   ]
  },
  {
   "cell_type": "code",
   "execution_count": null,
   "metadata": {
    "colab": {
     "base_uri": "https://localhost:8080/",
     "height": 161
    },
    "colab_type": "code",
    "id": "pQYgSKFjIyxr",
    "outputId": "9eba5681-0394-480e-cd7d-64cf92a3eed2"
   },
   "outputs": [],
   "source": [
    "from multiprocessing import Pool\n",
    "\n",
    "import time, os\n",
    "\n",
    "work = ([\"A\", 5], [\"B\", 2], [\"C\", 1], [\"D\", 3])\n",
    "\n",
    "\n",
    "def work_log(work_data):\n",
    "    print(\" Process %s waiting %s seconds\" % (work_data[0], work_data[1]))\n",
    "    time.sleep(int(work_data[1]))\n",
    "    print(\" Process %s Finished.\" % work_data[0])  \n",
    "    print('process id:', os.getpid())\n",
    "\n",
    "\n",
    "def pool_handler():\n",
    "    p = Pool(2)\n",
    "    p.map(work_log, work)\n",
    "\n",
    "\n",
    "if __name__ == '__main__':\n",
    "    pool_handler()"
   ]
  },
  {
   "cell_type": "markdown",
   "metadata": {
    "colab_type": "text",
    "id": "YeGjc2P3JBZd"
   },
   "source": [
    "풀 크기는 2 이고 work_log 함수가 병렬로 실행되고 있습니다.\n",
    "work 리스트의 각 첫번째 값은 키로 두번째값은 sleep 값으로 \n",
    "두번째값 만큼 work_log함수를 sleep 시킵니다.\n",
    "\n",
    "풀 크기만큼 병렬로 실행되어 프로세스 아이디가 두개만큼 생성되었음을 알 수 있습니다."
   ]
  }
 ],
 "metadata": {
  "colab": {
   "name": "python_multiprocess.ipynb",
   "provenance": []
  },
  "kernelspec": {
   "display_name": "machine",
   "language": "python",
   "name": "machine"
  },
  "language_info": {
   "codemirror_mode": {
    "name": "ipython",
    "version": 3
   },
   "file_extension": ".py",
   "mimetype": "text/x-python",
   "name": "python",
   "nbconvert_exporter": "python",
   "pygments_lexer": "ipython3",
   "version": "3.6.9"
  }
 },
 "nbformat": 4,
 "nbformat_minor": 1
}
